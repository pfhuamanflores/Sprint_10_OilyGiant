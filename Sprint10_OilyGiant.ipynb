{
 "cells": [
  {
   "cell_type": "markdown",
   "metadata": {},
   "source": [
    "# Proyecto integrado"
   ]
  },
  {
   "cell_type": "markdown",
   "metadata": {},
   "source": [
    "## Introducción"
   ]
  },
  {
   "cell_type": "markdown",
   "metadata": {},
   "source": [
    "En el presente proyecto trataremos de encontrar los mejores lugares para abrir 200 nuevos pozos de petróleo para la compañía OilyGiant. Para esto se creará un modelo que nos ayude a elegir la región que proporcione a la empresa el mayor margen de beneficio."
   ]
  },
  {
   "cell_type": "markdown",
   "metadata": {},
   "source": [
    "## Cargar librerías y abrir archivos"
   ]
  },
  {
   "cell_type": "code",
   "execution_count": 1,
   "metadata": {},
   "outputs": [],
   "source": [
    "#Cargar todas las librerías\n",
    "import pandas as pd\n",
    "import numpy as np\n",
    "import matplotlib.pyplot as plt\n",
    "from sklearn.model_selection import train_test_split\n",
    "from sklearn.linear_model import LinearRegression\n",
    "from sklearn.metrics import mean_squared_error\n",
    "from sklearn.metrics import r2_score\n",
    "from sklearn.metrics import mean_absolute_error\n",
    "from scipy import stats as st"
   ]
  },
  {
   "cell_type": "code",
   "execution_count": 2,
   "metadata": {},
   "outputs": [],
   "source": [
    "#Cargar los archivos de los datos\n",
    "geo_data_0= pd.read_csv('https://practicum-content.s3.us-west-1.amazonaws.com/datasets/geo_data_0.csv')\n",
    "geo_data_1= pd.read_csv('https://practicum-content.s3.us-west-1.amazonaws.com/datasets/geo_data_1.csv')\n",
    "geo_data_2= pd.read_csv('https://practicum-content.s3.us-west-1.amazonaws.com/datasets/geo_data_2.csv')"
   ]
  },
  {
   "cell_type": "markdown",
   "metadata": {},
   "source": [
    "## Descarga y preparación de los datos"
   ]
  },
  {
   "cell_type": "code",
   "execution_count": 3,
   "metadata": {},
   "outputs": [
    {
     "name": "stdout",
     "output_type": "stream",
     "text": [
      "<class 'pandas.core.frame.DataFrame'>\n",
      "RangeIndex: 100000 entries, 0 to 99999\n",
      "Data columns (total 5 columns):\n",
      " #   Column   Non-Null Count   Dtype  \n",
      "---  ------   --------------   -----  \n",
      " 0   id       100000 non-null  object \n",
      " 1   f0       100000 non-null  float64\n",
      " 2   f1       100000 non-null  float64\n",
      " 3   f2       100000 non-null  float64\n",
      " 4   product  100000 non-null  float64\n",
      "dtypes: float64(4), object(1)\n",
      "memory usage: 3.8+ MB\n"
     ]
    }
   ],
   "source": [
    "# Información general sobre el DataFrame geo_data_0\n",
    "geo_data_0.info()"
   ]
  },
  {
   "cell_type": "code",
   "execution_count": 4,
   "metadata": {},
   "outputs": [
    {
     "name": "stdout",
     "output_type": "stream",
     "text": [
      "<class 'pandas.core.frame.DataFrame'>\n",
      "RangeIndex: 100000 entries, 0 to 99999\n",
      "Data columns (total 5 columns):\n",
      " #   Column   Non-Null Count   Dtype  \n",
      "---  ------   --------------   -----  \n",
      " 0   id       100000 non-null  object \n",
      " 1   f0       100000 non-null  float64\n",
      " 2   f1       100000 non-null  float64\n",
      " 3   f2       100000 non-null  float64\n",
      " 4   product  100000 non-null  float64\n",
      "dtypes: float64(4), object(1)\n",
      "memory usage: 3.8+ MB\n"
     ]
    }
   ],
   "source": [
    "# Información general sobre el DataFrame geo_data_1\n",
    "geo_data_1.info()"
   ]
  },
  {
   "cell_type": "code",
   "execution_count": 5,
   "metadata": {},
   "outputs": [
    {
     "name": "stdout",
     "output_type": "stream",
     "text": [
      "<class 'pandas.core.frame.DataFrame'>\n",
      "RangeIndex: 100000 entries, 0 to 99999\n",
      "Data columns (total 5 columns):\n",
      " #   Column   Non-Null Count   Dtype  \n",
      "---  ------   --------------   -----  \n",
      " 0   id       100000 non-null  object \n",
      " 1   f0       100000 non-null  float64\n",
      " 2   f1       100000 non-null  float64\n",
      " 3   f2       100000 non-null  float64\n",
      " 4   product  100000 non-null  float64\n",
      "dtypes: float64(4), object(1)\n",
      "memory usage: 3.8+ MB\n"
     ]
    }
   ],
   "source": [
    "# Información general sobre el DataFrame geo_data_2\n",
    "geo_data_2.info()"
   ]
  },
  {
   "cell_type": "code",
   "execution_count": 6,
   "metadata": {},
   "outputs": [
    {
     "name": "stdout",
     "output_type": "stream",
     "text": [
      "Empty DataFrame\n",
      "Columns: [id, f0, f1, f2, product]\n",
      "Index: []\n"
     ]
    }
   ],
   "source": [
    "print(geo_data_0[geo_data_0.duplicated()])"
   ]
  },
  {
   "cell_type": "code",
   "execution_count": 7,
   "metadata": {},
   "outputs": [
    {
     "name": "stdout",
     "output_type": "stream",
     "text": [
      "Empty DataFrame\n",
      "Columns: [id, f0, f1, f2, product]\n",
      "Index: []\n"
     ]
    }
   ],
   "source": [
    "print(geo_data_1[geo_data_1.duplicated()])"
   ]
  },
  {
   "cell_type": "code",
   "execution_count": 8,
   "metadata": {},
   "outputs": [
    {
     "name": "stdout",
     "output_type": "stream",
     "text": [
      "Empty DataFrame\n",
      "Columns: [id, f0, f1, f2, product]\n",
      "Index: []\n"
     ]
    }
   ],
   "source": [
    "print(geo_data_2[geo_data_2.duplicated()])"
   ]
  },
  {
   "cell_type": "markdown",
   "metadata": {},
   "source": [
    "Podemos observar que no existen valores nulos ni duplicados en ninguna de las tablas, ahora si podemos empezar a trabajar con ellas."
   ]
  },
  {
   "cell_type": "markdown",
   "metadata": {},
   "source": [
    "## Entrenamiento y prueba del modelo "
   ]
  },
  {
   "cell_type": "code",
   "execution_count": 9,
   "metadata": {},
   "outputs": [
    {
     "data": {
      "text/html": [
       "<div>\n",
       "<style scoped>\n",
       "    .dataframe tbody tr th:only-of-type {\n",
       "        vertical-align: middle;\n",
       "    }\n",
       "\n",
       "    .dataframe tbody tr th {\n",
       "        vertical-align: top;\n",
       "    }\n",
       "\n",
       "    .dataframe thead th {\n",
       "        text-align: right;\n",
       "    }\n",
       "</style>\n",
       "<table border=\"1\" class=\"dataframe\">\n",
       "  <thead>\n",
       "    <tr style=\"text-align: right;\">\n",
       "      <th></th>\n",
       "      <th>id</th>\n",
       "      <th>f0</th>\n",
       "      <th>f1</th>\n",
       "      <th>f2</th>\n",
       "      <th>product</th>\n",
       "    </tr>\n",
       "  </thead>\n",
       "  <tbody>\n",
       "    <tr>\n",
       "      <th>0</th>\n",
       "      <td>kBEdx</td>\n",
       "      <td>-15.001348</td>\n",
       "      <td>-8.276000</td>\n",
       "      <td>-0.005876</td>\n",
       "      <td>3.179103</td>\n",
       "    </tr>\n",
       "    <tr>\n",
       "      <th>1</th>\n",
       "      <td>62mP7</td>\n",
       "      <td>14.272088</td>\n",
       "      <td>-3.475083</td>\n",
       "      <td>0.999183</td>\n",
       "      <td>26.953261</td>\n",
       "    </tr>\n",
       "    <tr>\n",
       "      <th>2</th>\n",
       "      <td>vyE1P</td>\n",
       "      <td>6.263187</td>\n",
       "      <td>-5.948386</td>\n",
       "      <td>5.001160</td>\n",
       "      <td>134.766305</td>\n",
       "    </tr>\n",
       "    <tr>\n",
       "      <th>3</th>\n",
       "      <td>KcrkZ</td>\n",
       "      <td>-13.081196</td>\n",
       "      <td>-11.506057</td>\n",
       "      <td>4.999415</td>\n",
       "      <td>137.945408</td>\n",
       "    </tr>\n",
       "    <tr>\n",
       "      <th>4</th>\n",
       "      <td>AHL4O</td>\n",
       "      <td>12.702195</td>\n",
       "      <td>-8.147433</td>\n",
       "      <td>5.004363</td>\n",
       "      <td>134.766305</td>\n",
       "    </tr>\n",
       "  </tbody>\n",
       "</table>\n",
       "</div>"
      ],
      "text/plain": [
       "      id         f0         f1        f2     product\n",
       "0  kBEdx -15.001348  -8.276000 -0.005876    3.179103\n",
       "1  62mP7  14.272088  -3.475083  0.999183   26.953261\n",
       "2  vyE1P   6.263187  -5.948386  5.001160  134.766305\n",
       "3  KcrkZ -13.081196 -11.506057  4.999415  137.945408\n",
       "4  AHL4O  12.702195  -8.147433  5.004363  134.766305"
      ]
     },
     "execution_count": 9,
     "metadata": {},
     "output_type": "execute_result"
    }
   ],
   "source": [
    "#Muestra general de los datos\n",
    "geo_data_1.head()"
   ]
  },
  {
   "cell_type": "code",
   "execution_count": 10,
   "metadata": {},
   "outputs": [
    {
     "data": {
      "text/plain": [
       "(100000, 5)"
      ]
     },
     "execution_count": 10,
     "metadata": {},
     "output_type": "execute_result"
    }
   ],
   "source": [
    "#Tamaño de la tabla\n",
    "geo_data_0.shape"
   ]
  },
  {
   "cell_type": "code",
   "execution_count": 11,
   "metadata": {},
   "outputs": [],
   "source": [
    "#Eliminaremos la fila que no se utilizará para el entrenamiento del modelo\n",
    "geo_data_0 = geo_data_0.drop(['id'], axis =1)"
   ]
  },
  {
   "cell_type": "markdown",
   "metadata": {},
   "source": [
    "### División de los datos en un conjunto de entrenamiento y un conjunto de validación "
   ]
  },
  {
   "cell_type": "code",
   "execution_count": 12,
   "metadata": {},
   "outputs": [],
   "source": [
    "#División de los datos en un conjunto de entrenamiento y un conjunto de validación en una proporción de 75:25\n",
    "target_0 = geo_data_0['product']\n",
    "features_0 = geo_data_0.drop(['product'], axis=1)\n",
    "features_train_0, features_valid_0, target_train_0, target_valid_0 = train_test_split(\n",
    "    features_0, target_0, test_size=0.25, random_state=12345\n",
    ")"
   ]
  },
  {
   "cell_type": "markdown",
   "metadata": {},
   "source": [
    "### Entrena el modelo y haz predicciones para el conjunto de validación"
   ]
  },
  {
   "cell_type": "code",
   "execution_count": 13,
   "metadata": {},
   "outputs": [],
   "source": [
    "model_0 = LinearRegression()\n",
    "model_0.fit(features_train_0, target_train_0)\n",
    "predicted_valid_0 = model_0.predict(features_valid_0)\n",
    "mse_0 = mean_squared_error(target_valid_0, predicted_valid_0)\n",
    "mean_0 =predicted_valid_0.mean()"
   ]
  },
  {
   "cell_type": "markdown",
   "metadata": {},
   "source": [
    "### Volumen medio de reservas predicho y RMSE del modelo"
   ]
  },
  {
   "cell_type": "code",
   "execution_count": 14,
   "metadata": {
    "scrolled": true
   },
   "outputs": [
    {
     "name": "stdout",
     "output_type": "stream",
     "text": [
      "Mean =  92.59\n",
      "Linear Regression\n",
      "MSE = 1412.21\n",
      "RMSE = 37.58\n"
     ]
    }
   ],
   "source": [
    "print('Mean = ', round(mean_0,2))\n",
    "print('Linear Regression')\n",
    "print('MSE =', round(mse_0,2))\n",
    "print('RMSE =', round(mse_0 ** 0.5, 2))"
   ]
  },
  {
   "cell_type": "markdown",
   "metadata": {},
   "source": [
    "El promedio de reservas predichos en la región 0 es de 92590 barriles\n",
    "\n",
    "La diferencia entre el valor observado y el valor predicho para las caracteristicas dadas en la Región 0 es de +- 37580 barriles de petróleo"
   ]
  },
  {
   "cell_type": "markdown",
   "metadata": {},
   "source": [
    "### Entranamiento y predicciones para los archivos restantes"
   ]
  },
  {
   "cell_type": "markdown",
   "metadata": {},
   "source": [
    "#### Geo Data 1"
   ]
  },
  {
   "cell_type": "code",
   "execution_count": 15,
   "metadata": {},
   "outputs": [],
   "source": [
    "#Eliminaremos la fila que no se utilizará para el entrenamiento del modelo\n",
    "geo_data_1 = geo_data_1.drop(['id'], axis =1)"
   ]
  },
  {
   "cell_type": "code",
   "execution_count": 16,
   "metadata": {},
   "outputs": [],
   "source": [
    "#División de los datos en un conjunto de entrenamiento y un conjunto de validación en una proporción de 75:25\n",
    "target_1 = geo_data_1['product']\n",
    "features_1 = geo_data_1.drop(['product'], axis=1)\n",
    "features_train_1, features_valid_1, target_train_1, target_valid_1 = train_test_split(\n",
    "    features_1, target_1, test_size=0.25, random_state=12345\n",
    ")"
   ]
  },
  {
   "cell_type": "code",
   "execution_count": 17,
   "metadata": {},
   "outputs": [],
   "source": [
    "model_1 = LinearRegression()\n",
    "model_1.fit(features_train_1, target_train_1)\n",
    "predicted_valid_1 = model_1.predict(features_valid_1)\n",
    "mse_1 = mean_squared_error(target_valid_1, predicted_valid_1)\n",
    "mean_1 = predicted_valid_1.mean()"
   ]
  },
  {
   "cell_type": "code",
   "execution_count": 18,
   "metadata": {},
   "outputs": [
    {
     "name": "stdout",
     "output_type": "stream",
     "text": [
      "Mean =  68.73\n",
      "Linear Regression\n",
      "MSE = 0.8\n",
      "RMSE = 0.89\n"
     ]
    }
   ],
   "source": [
    "print('Mean = ', round(mean_1,2))\n",
    "print('Linear Regression')\n",
    "print('MSE =', round(mse_1,2))\n",
    "print('RMSE =', round(mse_1 ** 0.5, 2))"
   ]
  },
  {
   "cell_type": "markdown",
   "metadata": {},
   "source": [
    "El promedio de reservas predichos en la región 0 es de 68730 barriles\n",
    "\n",
    "La diferencia entre el valor observado y el valor predicho para las caracteristicas dadas en la Región 1 es de +- 890 barriles de petróleo"
   ]
  },
  {
   "cell_type": "markdown",
   "metadata": {},
   "source": [
    "#### Geo Data 2"
   ]
  },
  {
   "cell_type": "code",
   "execution_count": 19,
   "metadata": {},
   "outputs": [],
   "source": [
    "#Eliminaremos la fila que no se utilizará para el entrenamiento del modelo\n",
    "geo_data_2 = geo_data_2.drop(['id'], axis =1)"
   ]
  },
  {
   "cell_type": "code",
   "execution_count": 20,
   "metadata": {},
   "outputs": [],
   "source": [
    "#División de los datos en un conjunto de entrenamiento y un conjunto de validación en una proporción de 75:25\n",
    "target_2 = geo_data_2['product']\n",
    "features_2 = geo_data_2.drop(['product'], axis=1)\n",
    "features_train_2, features_valid_2, target_train_2, target_valid_2 = train_test_split(\n",
    "    features_2, target_2, test_size=0.25, random_state=12345\n",
    ")"
   ]
  },
  {
   "cell_type": "code",
   "execution_count": 21,
   "metadata": {},
   "outputs": [],
   "source": [
    "model_2 = LinearRegression()\n",
    "model_2.fit(features_train_2, target_train_2)\n",
    "predicted_valid_2 = model_2.predict(features_valid_2)\n",
    "mse_2 = mean_squared_error(target_valid_2, predicted_valid_2)\n",
    "mean_2 = predicted_valid_2.mean()"
   ]
  },
  {
   "cell_type": "code",
   "execution_count": 22,
   "metadata": {},
   "outputs": [
    {
     "name": "stdout",
     "output_type": "stream",
     "text": [
      "Mean =  94.97\n",
      "Linear Regression\n",
      "MSE = 1602.38\n",
      "RMSE = 40.03\n"
     ]
    }
   ],
   "source": [
    "print('Mean = ', round(mean_2,2))\n",
    "print('Linear Regression')\n",
    "print('MSE =', round(mse_2,2))\n",
    "print('RMSE =', round(mse_2 ** 0.5, 2))"
   ]
  },
  {
   "cell_type": "markdown",
   "metadata": {},
   "source": [
    "El promedio de reservas predichos en la región 0 es de 94970 barriles\n",
    "\n",
    "La diferencia entre el valor observado y el valor predicho para las caracteristicas dadas en la Región 1 es de +- 40030 barriles de petróleo"
   ]
  },
  {
   "cell_type": "markdown",
   "metadata": {},
   "source": [
    "## Cálculo de ganancias "
   ]
  },
  {
   "cell_type": "code",
   "execution_count": 23,
   "metadata": {},
   "outputs": [
    {
     "name": "stdout",
     "output_type": "stream",
     "text": [
      "Media de miles de barriles de petróleo en la región 0 =  92.5\n"
     ]
    }
   ],
   "source": [
    "# Cálculo de la media de reservas para la región 0\n",
    "media0 = geo_data_0['product'].mean()\n",
    "print('Media de miles de barriles de petróleo en la región 0 = ' , round(media0, 2))"
   ]
  },
  {
   "cell_type": "code",
   "execution_count": 24,
   "metadata": {},
   "outputs": [
    {
     "name": "stdout",
     "output_type": "stream",
     "text": [
      "Media de miles de barriles de petróleo en la región 1 =  68.83\n"
     ]
    }
   ],
   "source": [
    "# Cálculo de la media de reservas para la región 0\n",
    "media1 = geo_data_1['product'].mean()\n",
    "print('Media de miles de barriles de petróleo en la región 1 = ' , round(media1, 2))"
   ]
  },
  {
   "cell_type": "code",
   "execution_count": 25,
   "metadata": {},
   "outputs": [
    {
     "name": "stdout",
     "output_type": "stream",
     "text": [
      "Media de miles de barriles de petróleo en la región 2 =  95.0\n"
     ]
    }
   ],
   "source": [
    "# Cálculo de la media de reservas para la región 0\n",
    "media2 = geo_data_2['product'].mean()\n",
    "print('Media de miles de barriles de petróleo en la región 2 = ' , round(media2, 2))"
   ]
  },
  {
   "cell_type": "markdown",
   "metadata": {},
   "source": [
    "Para calcular el beneficio medio por región se multiplica la media que está expresada en miles de barriles por la cantidad en dólares americanos que se recibe por la venta (US$4.5 por barril * 1000 = 4500)."
   ]
  },
  {
   "cell_type": "code",
   "execution_count": 26,
   "metadata": {},
   "outputs": [],
   "source": [
    "# Variables a considerar\n",
    "cost_200_pozos = 100000000\n",
    "income_per_unit = 4500\n",
    "costo_por_pozo = 500000\n",
    "umbral = 111.1 "
   ]
  },
  {
   "cell_type": "markdown",
   "metadata": {},
   "source": [
    "### Ganancia promedio por región"
   ]
  },
  {
   "cell_type": "code",
   "execution_count": 27,
   "metadata": {},
   "outputs": [
    {
     "name": "stdout",
     "output_type": "stream",
     "text": [
      "Ingreso por nivel de reservas promedio por pozo para la región 0 = -83750.0\n"
     ]
    }
   ],
   "source": [
    "# Cálculo de la ganancia promedio para la región 0\n",
    "print('Ingreso por nivel de reservas promedio por pozo para la región 0 = ' + str(round(media0 * income_per_unit - costo_por_pozo,2)))"
   ]
  },
  {
   "cell_type": "code",
   "execution_count": 28,
   "metadata": {},
   "outputs": [
    {
     "name": "stdout",
     "output_type": "stream",
     "text": [
      "Ingreso por nivel de reservas promedio por pozo para la región 0 = -190287.5\n"
     ]
    }
   ],
   "source": [
    "# Cálculo de la ganancia promedio para la región 1\n",
    "print('Ingreso por nivel de reservas promedio por pozo para la región 0 = ' + str(round(media1 * income_per_unit - costo_por_pozo,2)))"
   ]
  },
  {
   "cell_type": "code",
   "execution_count": 29,
   "metadata": {},
   "outputs": [
    {
     "name": "stdout",
     "output_type": "stream",
     "text": [
      "Ingreso por nivel de reservas promedio por pozo para la región 0 = -72500.0\n"
     ]
    }
   ],
   "source": [
    "# Cálculo de la ganancia promedio para la región 2\n",
    "print('Ingreso por nivel de reservas promedio por pozo para la región 0 = ' + str(round(media2 * income_per_unit - costo_por_pozo,2)))"
   ]
  },
  {
   "cell_type": "markdown",
   "metadata": {},
   "source": [
    "Como podemos observar si tomamos los valores promedio de reserva de los pozos petroleros por cada región presentamos pérdidas, en ningina de las regiones se llega en promedio al nivel mínimo que se necesita para que un pozo sea rentable."
   ]
  },
  {
   "cell_type": "markdown",
   "metadata": {},
   "source": [
    "## Cálculo de la ganancia de un conjunto de pozos de petróleo seleccionados"
   ]
  },
  {
   "cell_type": "code",
   "execution_count": 30,
   "metadata": {},
   "outputs": [],
   "source": [
    "geo_data_0_sorted = -np.sort(-predicted_valid_0)\n",
    "geo_data_0_sorted = geo_data_0_sorted[:200]"
   ]
  },
  {
   "cell_type": "code",
   "execution_count": 31,
   "metadata": {},
   "outputs": [
    {
     "name": "stdout",
     "output_type": "stream",
     "text": [
      "Potencial ganancia de los 200 pozos de petróleo con mas reservas de la región 0 = $39960488.77\n"
     ]
    }
   ],
   "source": [
    "suma0 = geo_data_0_sorted.sum()\n",
    "print('Potencial ganancia de los 200 pozos de petróleo con mas reservas de la región 0 = $' + str(round(suma0 * 4500 - cost_200_pozos ,2)))"
   ]
  },
  {
   "cell_type": "code",
   "execution_count": 32,
   "metadata": {},
   "outputs": [],
   "source": [
    "geo_data_1_sorted = -np.sort(-predicted_valid_1)\n",
    "geo_data_1_sorted = geo_data_1_sorted[:200]"
   ]
  },
  {
   "cell_type": "code",
   "execution_count": 33,
   "metadata": {},
   "outputs": [
    {
     "name": "stdout",
     "output_type": "stream",
     "text": [
      "Potencial ganancia de los 200 pozos de petróleo con mas reservas de la región 0 = $24857120.52\n"
     ]
    }
   ],
   "source": [
    "suma1 = geo_data_1_sorted.sum()\n",
    "print('Potencial ganancia de los 200 pozos de petróleo con mas reservas de la región 0 = $' + str(round(suma1 * 4500 - cost_200_pozos,2)))"
   ]
  },
  {
   "cell_type": "code",
   "execution_count": 34,
   "metadata": {},
   "outputs": [],
   "source": [
    "geo_data_2_sorted = -np.sort(-predicted_valid_2)\n",
    "geo_data_2_sorted = geo_data_2_sorted[:200]"
   ]
  },
  {
   "cell_type": "code",
   "execution_count": 35,
   "metadata": {},
   "outputs": [
    {
     "name": "stdout",
     "output_type": "stream",
     "text": [
      "Potencial ganancia de los 200 pozos de petróleo con mas reservas de la región 0 = $33217543.96\n"
     ]
    }
   ],
   "source": [
    "suma2 = geo_data_2_sorted.sum()\n",
    "print('Potencial ganancia de los 200 pozos de petróleo con mas reservas de la región 0 = $' + str(round(suma2 * 4500 - cost_200_pozos,2)))"
   ]
  },
  {
   "cell_type": "markdown",
   "metadata": {},
   "source": [
    "Una ves realizado el cálculo para poder ver que región tendría la mayor potencial ganancia al escoger los 200 pozos petroleros con mayores reservas predichos llegamos a la conclusión que es la Región 0 con un valor de $39 960 488.77 de beneficios."
   ]
  },
  {
   "cell_type": "markdown",
   "metadata": {},
   "source": [
    "## Calcula riesgos y ganancias "
   ]
  },
  {
   "cell_type": "markdown",
   "metadata": {},
   "source": [
    "### Región 0"
   ]
  },
  {
   "cell_type": "code",
   "execution_count": 36,
   "metadata": {},
   "outputs": [
    {
     "name": "stdout",
     "output_type": "stream",
     "text": [
      "Ingresos promedio: $ 39960488.77\n",
      "Media de los 200 pozos con mayores reservas de la región 0: 155.51\n",
      "Intervalo de confianza del 95 %:  (154.62602923098981, 156.3972791571242)\n"
     ]
    }
   ],
   "source": [
    "# Región 0\n",
    "\n",
    "#Conversión de las variables a series de pandas para trabajarles posteriormente \n",
    "predicted_valid_0 =pd.Series(predicted_valid_0)\n",
    "geo_data_0_sorted = pd.Series(geo_data_0_sorted)\n",
    "\n",
    "#Creación de la función\n",
    "def revenue(predictions, count):\n",
    "    selected = predicted_valid_0.sort_values(ascending=False)[:count]\n",
    "    return income_per_unit * selected.sum() - cost_200_pozos\n",
    "\n",
    "state = np.random.RandomState(12345)\n",
    "\n",
    "#Bootstrapping con mil muestras\n",
    "values = []\n",
    "for i in range(1000):\n",
    "    subsample = predicted_valid_0.sample(n=500, replace=True, random_state=state) \n",
    "    values.append(revenue(subsample, 200))\n",
    "\n",
    "values = pd.Series(values)\n",
    "\n",
    "\n",
    "mean = values.mean()\n",
    "print(\"Ingresos promedio: $\", round(mean,2))\n",
    "print('Media de los 200 pozos con mayores reservas de la región 0:', round(geo_data_0_sorted.mean(), 2))\n",
    "\n",
    "#Intervalo de confianza al 95% de los 200 pozos con mayores reservas de la Región 0\n",
    "\n",
    "confidence_interval0 = st.t.interval(\n",
    "    0.95, len(geo_data_0_sorted)-1, geo_data_0_sorted.mean(), geo_data_0_sorted.sem())\n",
    "\n",
    "print('Intervalo de confianza del 95 %: ', confidence_interval0)"
   ]
  },
  {
   "cell_type": "code",
   "execution_count": 37,
   "metadata": {},
   "outputs": [
    {
     "data": {
      "text/html": [
       "<div>\n",
       "<style scoped>\n",
       "    .dataframe tbody tr th:only-of-type {\n",
       "        vertical-align: middle;\n",
       "    }\n",
       "\n",
       "    .dataframe tbody tr th {\n",
       "        vertical-align: top;\n",
       "    }\n",
       "\n",
       "    .dataframe thead th {\n",
       "        text-align: right;\n",
       "    }\n",
       "</style>\n",
       "<table border=\"1\" class=\"dataframe\">\n",
       "  <thead>\n",
       "    <tr style=\"text-align: right;\">\n",
       "      <th></th>\n",
       "      <th>valor_real</th>\n",
       "      <th>valor_prediccion</th>\n",
       "    </tr>\n",
       "  </thead>\n",
       "  <tbody>\n",
       "    <tr>\n",
       "      <th>0</th>\n",
       "      <td>10.038645</td>\n",
       "      <td>95.894952</td>\n",
       "    </tr>\n",
       "    <tr>\n",
       "      <th>1</th>\n",
       "      <td>114.551489</td>\n",
       "      <td>77.572583</td>\n",
       "    </tr>\n",
       "    <tr>\n",
       "      <th>2</th>\n",
       "      <td>132.603635</td>\n",
       "      <td>77.892640</td>\n",
       "    </tr>\n",
       "    <tr>\n",
       "      <th>3</th>\n",
       "      <td>169.072125</td>\n",
       "      <td>90.175134</td>\n",
       "    </tr>\n",
       "    <tr>\n",
       "      <th>4</th>\n",
       "      <td>122.325180</td>\n",
       "      <td>70.510088</td>\n",
       "    </tr>\n",
       "    <tr>\n",
       "      <th>...</th>\n",
       "      <td>...</td>\n",
       "      <td>...</td>\n",
       "    </tr>\n",
       "    <tr>\n",
       "      <th>24995</th>\n",
       "      <td>170.116726</td>\n",
       "      <td>103.037104</td>\n",
       "    </tr>\n",
       "    <tr>\n",
       "      <th>24996</th>\n",
       "      <td>93.632175</td>\n",
       "      <td>85.403255</td>\n",
       "    </tr>\n",
       "    <tr>\n",
       "      <th>24997</th>\n",
       "      <td>127.352259</td>\n",
       "      <td>61.509833</td>\n",
       "    </tr>\n",
       "    <tr>\n",
       "      <th>24998</th>\n",
       "      <td>99.782700</td>\n",
       "      <td>118.180397</td>\n",
       "    </tr>\n",
       "    <tr>\n",
       "      <th>24999</th>\n",
       "      <td>177.821022</td>\n",
       "      <td>118.169392</td>\n",
       "    </tr>\n",
       "  </tbody>\n",
       "</table>\n",
       "<p>25000 rows × 2 columns</p>\n",
       "</div>"
      ],
      "text/plain": [
       "       valor_real  valor_prediccion\n",
       "0       10.038645         95.894952\n",
       "1      114.551489         77.572583\n",
       "2      132.603635         77.892640\n",
       "3      169.072125         90.175134\n",
       "4      122.325180         70.510088\n",
       "...           ...               ...\n",
       "24995  170.116726        103.037104\n",
       "24996   93.632175         85.403255\n",
       "24997  127.352259         61.509833\n",
       "24998   99.782700        118.180397\n",
       "24999  177.821022        118.169392\n",
       "\n",
       "[25000 rows x 2 columns]"
      ]
     },
     "execution_count": 37,
     "metadata": {},
     "output_type": "execute_result"
    }
   ],
   "source": [
    "pd.DataFrame({'valor_real':target_valid_0.reset_index(drop=True),'valor_prediccion':pd.Series(predicted_valid_0)})"
   ]
  },
  {
   "cell_type": "code",
   "execution_count": 38,
   "metadata": {},
   "outputs": [
    {
     "name": "stdout",
     "output_type": "stream",
     "text": [
      "Ingresos promedio: 33208260.431398515\n",
      "33208260.43139851\n",
      "33208260.43139851\n"
     ]
    }
   ],
   "source": [
    "# Región 0\n",
    "\n",
    "#Conversión de las variables a series de pandas para trabajarles posteriormente \n",
    "target_valid_0 = pd.Series(target_valid_0)\n",
    "target_valid_0.reset_index(drop=True, inplace=True)\n",
    "\n",
    "#Creación de la función\n",
    "def revenue(target, probabilities):\n",
    "    pred_sorted = predicted_valid_0.sort_values(ascending=False)\n",
    "    selected = target_valid_0[pred_sorted.index][:200]\n",
    "    return income_per_unit * selected.sum() - cost_200_pozos\n",
    "probs_subsample = 0\n",
    "state = np.random.RandomState(12345)\n",
    "\n",
    "#Bootstrapping con mil muestras\n",
    "values = []\n",
    "for i in range(1000):\n",
    "    target_subsample = target_valid_0.sample(n=500, replace=True, random_state=state)\n",
    "    probs_subsample = predicted_valid_0[target_subsample.index]\n",
    "    \n",
    "    values.append(revenue(target_subsample, probs_subsample))\n",
    "values = pd.Series(values)\n",
    "\n",
    "lower = values.quantile(0.99)\n",
    "\n",
    "#Intervalo de confianza al 95% de los 200 pozos con mayores reservas de la Región 0\n",
    "\n",
    "mean = values.mean()\n",
    "lower = values.quantile(0.025)\n",
    "upper = values.quantile(0.975)\n",
    "print(\"Ingresos promedio:\", mean)\n",
    "print(lower)\n",
    "print(upper)\n"
   ]
  },
  {
   "cell_type": "markdown",
   "metadata": {},
   "source": [
    "- Podemos observar que tomando una muestra de 200 pozos mil veces obtenemos una ganancia de $39 960 488.77\n",
    "- Hay un 95% de probabilidad que la media de los 200 pozos con mayoures reservas para la región 0 este entre 154.63 y 156.40\n"
   ]
  },
  {
   "cell_type": "markdown",
   "metadata": {},
   "source": [
    "### Región 0"
   ]
  },
  {
   "cell_type": "code",
   "execution_count": 53,
   "metadata": {},
   "outputs": [
    {
     "name": "stdout",
     "output_type": "stream",
     "text": [
      "Ingresos promedio región 0: $ 6007352.44\n",
      "\n",
      "Intervalo de Confianza al 95%\n",
      "Nivel inferior: $  129483.31\n",
      "Nivel superior: $ 12311636.06\n",
      "\n",
      "Riesgo =  2.0 %\n"
     ]
    }
   ],
   "source": [
    "#Región 0\n",
    "\n",
    "#Creación del dataframe que contiene los valores reales con los valores de predicción de la Región 0\n",
    "data_0 = pd.DataFrame({'valor_real':target_valid_0.reset_index(drop=True),'valor_prediccion':pd.Series(predicted_valid_0)})\n",
    "\n",
    "#Creación de la función\n",
    "def revenue0(real_v, predicted_v):\n",
    "    pred_sorted0 = predicted_v.sort_values(ascending=False).head(200)\n",
    "    selected0 = real_v[pred_sorted0.index]\n",
    "    return income_per_unit * selected0.sum() - cost_200_pozos\n",
    "\n",
    "state = np.random.RandomState(12345)\n",
    "\n",
    "#Bootstrapping con mil muestras\n",
    "values0 = []\n",
    "for i in range(1000):\n",
    "    target_subsample0 = data_0['valor_real'].sample(n=500, replace=True, random_state=state)\n",
    "    probs_subsample0 = data_0['valor_prediccion'][target_subsample0.index]\n",
    "    \n",
    "    values0.append(revenue0(target_subsample0, probs_subsample0))\n",
    "    \n",
    "values0 = pd.Series(values0)\n",
    "\n",
    "\n",
    "\n",
    "#Intervalo de confianza al 95% de los 200 pozos con mayores reservas de la Región 0\n",
    "\n",
    "mean0 = values0.mean()\n",
    "lower0 = values0.quantile(0.025)\n",
    "upper0 = values0.quantile(0.975)\n",
    "print(\"Ingresos promedio región 0: $\", round(mean0,2))\n",
    "print()\n",
    "print('Intervalo de Confianza al 95%')\n",
    "print('Nivel inferior: $ ', round(lower0,2))\n",
    "print('Nivel superior: $', round(upper0,2))\n",
    "print()\n",
    "#Nivel de riesgo \n",
    "r0 = []\n",
    "for k in values0:\n",
    "    if k < 0:\n",
    "        r0.append(k)\n",
    "        \n",
    "risk0= len(r0)/len(values0)\n",
    "print('Riesgo = ', round(risk0*100,2),'%')"
   ]
  },
  {
   "cell_type": "markdown",
   "metadata": {},
   "source": [
    "- Podemos observar que la ganancia promedio para la región 0 es de $ 6 007 352.44 \n",
    "\n",
    "- Hay un 95% de probabilidades que la ganancia promedio para la región 0 este entre  129 483.31 y  12 311 636.06 millones de dólares.\n",
    "\n",
    "- El riesgo para esta región es del 2%"
   ]
  },
  {
   "cell_type": "markdown",
   "metadata": {},
   "source": [
    "### Región 1"
   ]
  },
  {
   "cell_type": "code",
   "execution_count": 52,
   "metadata": {},
   "outputs": [
    {
     "name": "stdout",
     "output_type": "stream",
     "text": [
      "Ingresos promedio región 1: $ 6652410.58\n",
      "\n",
      "Intervalo de Confianza al 95%\n",
      "Nivel inferior: $  1579884.81\n",
      "Nivel superior: $ 11976415.87\n",
      "\n",
      "Riesgo =  0.3 %\n"
     ]
    }
   ],
   "source": [
    "#Región 1\n",
    "\n",
    "#Creación del dataframe que contiene los valores reales con los valores de predicción de la Región 0\n",
    "data_1 = pd.DataFrame({'valor_real':target_valid_1.reset_index(drop=True),'valor_prediccion':pd.Series(predicted_valid_1)})\n",
    "\n",
    "#Creación de la función\n",
    "def revenue1(real_v, predicted_v):\n",
    "    pred_sorted1 = predicted_v.sort_values(ascending=False).head(200)\n",
    "    selected1 = real_v[pred_sorted1.index]\n",
    "    return income_per_unit * selected1.sum() - cost_200_pozos\n",
    "\n",
    "state = np.random.RandomState(12345)\n",
    "\n",
    "#Bootstrapping con mil muestras\n",
    "values1 = []\n",
    "for i in range(1000):\n",
    "    target_subsample1 = data_1['valor_real'].sample(n=500, replace=True, random_state=state)\n",
    "    probs_subsample1 = data_1['valor_prediccion'][target_subsample1.index]\n",
    "    \n",
    "    values1.append(revenue1(target_subsample1, probs_subsample1))\n",
    "    \n",
    "values1 = pd.Series(values1)\n",
    "\n",
    "\n",
    "\n",
    "#Intervalo de confianza al 95% de los 200 pozos con mayores reservas de la Región 1\n",
    "\n",
    "mean1 = values1.mean()\n",
    "lower1 = values1.quantile(0.025)\n",
    "upper1 = values1.quantile(0.975)\n",
    "print(\"Ingresos promedio región 1: $\", round(mean1,2))\n",
    "print()\n",
    "print('Intervalo de Confianza al 95%')\n",
    "print('Nivel inferior: $ ', round(lower1,2))\n",
    "print('Nivel superior: $', round(upper1,2))\n",
    "print()\n",
    "#Nivel de riesgo \n",
    "r1 = []\n",
    "for k in values1:\n",
    "    if k < 0:\n",
    "        r1.append(k)\n",
    "        \n",
    "risk1= len(r1)/len(values1)\n",
    "print('Riesgo = ', round(risk1*100,2),'%')"
   ]
  },
  {
   "cell_type": "markdown",
   "metadata": {},
   "source": [
    "- Podemos observar que la ganancia promedio para la región 1 es de $ 6 652 410.58 \n",
    "\n",
    "- Hay un 95% de probabilidades que la ganancia promedio para la región 0 este entre  1 579 884.81 y  11 976 415.87 millones de dólares.\n",
    "\n",
    "- El riesgo para esta región es del 0.3%"
   ]
  },
  {
   "cell_type": "markdown",
   "metadata": {},
   "source": [
    "### Región 2"
   ]
  },
  {
   "cell_type": "code",
   "execution_count": 54,
   "metadata": {},
   "outputs": [
    {
     "name": "stdout",
     "output_type": "stream",
     "text": [
      "Ingresos promedio región 2: $ 6155597.23\n",
      "\n",
      "Intervalo de Confianza al 95%\n",
      "Nivel inferior: $  -122184.95\n",
      "Nivel superior: $ 12306444.74\n",
      "\n",
      "Riesgo =  6.0 %\n"
     ]
    }
   ],
   "source": [
    "#Región 2\n",
    "\n",
    "#Creación del dataframe que contiene los valores reales con los valores de predicción de la Región 0\n",
    "data_2 = pd.DataFrame({'valor_real':target_valid_2.reset_index(drop=True),'valor_prediccion':pd.Series(predicted_valid_2)})\n",
    "\n",
    "#Creación de la función\n",
    "def revenue2(real_v, predicted_v):\n",
    "    pred_sorted2 = predicted_v.sort_values(ascending=False).head(200)\n",
    "    selected2 = real_v[pred_sorted2.index]\n",
    "    return income_per_unit * selected2.sum() - cost_200_pozos\n",
    "\n",
    "state = np.random.RandomState(12345)\n",
    "\n",
    "#Bootstrapping con mil muestras\n",
    "values2 = []\n",
    "for i in range(1000):\n",
    "    target_subsample2 = data_2['valor_real'].sample(n=500, replace=True, random_state=state)\n",
    "    probs_subsample2 = data_2['valor_prediccion'][target_subsample2.index]\n",
    "    \n",
    "    values2.append(revenue2(target_subsample2, probs_subsample2))\n",
    "    \n",
    "values2 = pd.Series(values2)\n",
    "\n",
    "\n",
    "\n",
    "#Intervalo de confianza al 95% de los 200 pozos con mayores reservas de la Región 2\n",
    "\n",
    "mean2 = values2.mean()\n",
    "lower2 = values2.quantile(0.025)\n",
    "upper2 = values2.quantile(0.975)\n",
    "print(\"Ingresos promedio región 2: $\", round(mean2,2))\n",
    "print()\n",
    "print('Intervalo de Confianza al 95%')\n",
    "print('Nivel inferior: $ ', round(lower2,2))\n",
    "print('Nivel superior: $', round(upper2,2))\n",
    "print()\n",
    "#Nivel de riesgo \n",
    "r2 = []\n",
    "for k in values2:\n",
    "    if k < 0:\n",
    "        r2.append(k)\n",
    "        \n",
    "risk2= len(r2)/len(values2)\n",
    "print('Riesgo = ', round(risk2*200,2),'%')"
   ]
  },
  {
   "cell_type": "markdown",
   "metadata": {},
   "source": [
    "- Podemos observar que la ganancia promedio para la región 2 es de $ 6 155 597.23 \n",
    "\n",
    "- Hay un 95% de probabilidades que la ganancia promedio para la región 0 este entre  -122 184.95 y  12 306 444 millones de dólares.\n",
    "\n",
    "- El riesgo para esta región es del 6%"
   ]
  },
  {
   "cell_type": "markdown",
   "metadata": {},
   "source": [
    "## Conclusiones"
   ]
  },
  {
   "cell_type": "markdown",
   "metadata": {},
   "source": [
    "- Podemos concluir que al utilizar diferentes métodos de estimación la región que sigue siendo más rentable entre las tres posibles es la Región 0, con una ganancia esperada de alrededor de 40 millones de dólares después de restar los costos conocidos. Esto se debe a que es la región que presenta los pozos con mayores reservas.\n",
    "\n",
    "- A su vez se denota que ninguna de las 3 regiones presenta un riesgo de pérdida, ya que ninguno de los 200 pozos con las mayores reservas de cada una de esta presenta menos de 111100 barriles, todas están bastante por encima de este umbral.\n"
   ]
  }
 ],
 "metadata": {
  "ExecuteTimeLog": [
   {
    "duration": 312,
    "start_time": "2024-05-18T02:02:42.571Z"
   },
   {
    "duration": 5212,
    "start_time": "2024-05-18T02:02:49.015Z"
   },
   {
    "duration": 2954,
    "start_time": "2024-05-18T02:02:54.230Z"
   },
   {
    "duration": 23,
    "start_time": "2024-05-18T02:02:57.187Z"
   },
   {
    "duration": 33,
    "start_time": "2024-05-18T02:02:57.212Z"
   },
   {
    "duration": 19,
    "start_time": "2024-05-18T02:02:57.249Z"
   },
   {
    "duration": 91,
    "start_time": "2024-05-18T02:02:57.272Z"
   },
   {
    "duration": 64,
    "start_time": "2024-05-18T02:02:57.366Z"
   },
   {
    "duration": 61,
    "start_time": "2024-05-18T02:02:57.433Z"
   },
   {
    "duration": 36,
    "start_time": "2024-05-18T02:02:57.496Z"
   },
   {
    "duration": 19,
    "start_time": "2024-05-18T02:03:05.606Z"
   },
   {
    "duration": 12,
    "start_time": "2024-05-18T02:04:24.936Z"
   },
   {
    "duration": 474,
    "start_time": "2024-05-18T02:05:02.790Z"
   },
   {
    "duration": 5,
    "start_time": "2024-05-18T02:05:10.773Z"
   },
   {
    "duration": 22,
    "start_time": "2024-05-18T02:06:49.530Z"
   },
   {
    "duration": 324,
    "start_time": "2024-05-18T02:06:55.667Z"
   },
   {
    "duration": 1320,
    "start_time": "2024-05-18T02:08:02.339Z"
   },
   {
    "duration": 8,
    "start_time": "2024-05-18T02:08:20.217Z"
   },
   {
    "duration": 206,
    "start_time": "2024-05-18T02:08:30.332Z"
   },
   {
    "duration": 69,
    "start_time": "2024-05-18T02:08:35.486Z"
   },
   {
    "duration": 72,
    "start_time": "2024-05-18T02:09:43.737Z"
   },
   {
    "duration": 70,
    "start_time": "2024-05-18T02:09:53.379Z"
   },
   {
    "duration": 68,
    "start_time": "2024-05-18T02:10:01.870Z"
   },
   {
    "duration": 67,
    "start_time": "2024-05-18T02:10:19.023Z"
   },
   {
    "duration": 15,
    "start_time": "2024-05-18T02:11:11.288Z"
   },
   {
    "duration": 10,
    "start_time": "2024-05-18T02:11:46.989Z"
   },
   {
    "duration": 10,
    "start_time": "2024-05-18T02:12:31.852Z"
   },
   {
    "duration": 12,
    "start_time": "2024-05-18T02:12:45.712Z"
   },
   {
    "duration": 23,
    "start_time": "2024-05-18T02:13:06.814Z"
   },
   {
    "duration": 9,
    "start_time": "2024-05-18T02:13:11.563Z"
   },
   {
    "duration": 3047,
    "start_time": "2024-05-18T02:13:17.973Z"
   },
   {
    "duration": 19,
    "start_time": "2024-05-18T02:13:21.666Z"
   },
   {
    "duration": 16,
    "start_time": "2024-05-18T02:13:26.694Z"
   },
   {
    "duration": 7,
    "start_time": "2024-05-18T02:14:04.706Z"
   },
   {
    "duration": 11,
    "start_time": "2024-05-18T02:14:13.543Z"
   },
   {
    "duration": 7,
    "start_time": "2024-05-18T02:14:24.316Z"
   },
   {
    "duration": 10,
    "start_time": "2024-05-18T02:14:26.177Z"
   },
   {
    "duration": 70,
    "start_time": "2024-05-18T02:14:46.568Z"
   },
   {
    "duration": 548,
    "start_time": "2024-05-18T02:15:55.470Z"
   },
   {
    "duration": 30,
    "start_time": "2024-05-18T02:16:56.065Z"
   },
   {
    "duration": 639,
    "start_time": "2024-05-18T02:17:35.411Z"
   },
   {
    "duration": 6,
    "start_time": "2024-05-18T02:18:05.064Z"
   },
   {
    "duration": 418,
    "start_time": "2024-05-18T02:18:09.054Z"
   },
   {
    "duration": 277,
    "start_time": "2024-05-18T02:18:24.368Z"
   },
   {
    "duration": 5922,
    "start_time": "2024-05-18T02:18:43.809Z"
   },
   {
    "duration": 13,
    "start_time": "2024-05-18T02:18:51.352Z"
   },
   {
    "duration": 5,
    "start_time": "2024-05-18T02:22:14.414Z"
   },
   {
    "duration": 6,
    "start_time": "2024-05-18T02:24:47.774Z"
   },
   {
    "duration": 11,
    "start_time": "2024-05-18T02:24:58.884Z"
   },
   {
    "duration": 16,
    "start_time": "2024-05-18T02:26:47.614Z"
   },
   {
    "duration": 5,
    "start_time": "2024-05-18T02:29:13.082Z"
   },
   {
    "duration": 24,
    "start_time": "2024-05-18T02:29:39.260Z"
   },
   {
    "duration": 16,
    "start_time": "2024-05-18T02:34:38.474Z"
   },
   {
    "duration": 5,
    "start_time": "2024-05-18T02:35:21.495Z"
   },
   {
    "duration": 6,
    "start_time": "2024-05-18T02:35:30.520Z"
   },
   {
    "duration": 5,
    "start_time": "2024-05-18T02:39:22.072Z"
   },
   {
    "duration": 8,
    "start_time": "2024-05-18T02:39:47.814Z"
   },
   {
    "duration": 17,
    "start_time": "2024-05-18T03:06:19.714Z"
   },
   {
    "duration": 42,
    "start_time": "2024-05-18T03:06:43.200Z"
   },
   {
    "duration": 24,
    "start_time": "2024-05-18T03:07:18.457Z"
   },
   {
    "duration": 16,
    "start_time": "2024-05-18T03:15:38.892Z"
   },
   {
    "duration": 14,
    "start_time": "2024-05-18T03:16:23.692Z"
   },
   {
    "duration": 5,
    "start_time": "2024-05-18T03:16:39.910Z"
   },
   {
    "duration": 13,
    "start_time": "2024-05-18T03:16:59.643Z"
   },
   {
    "duration": 14,
    "start_time": "2024-05-18T03:17:04.874Z"
   },
   {
    "duration": 23,
    "start_time": "2024-05-18T03:20:11.852Z"
   },
   {
    "duration": 69,
    "start_time": "2024-05-18T03:20:47.220Z"
   },
   {
    "duration": 186,
    "start_time": "2024-05-18T03:21:51.206Z"
   },
   {
    "duration": 70,
    "start_time": "2024-05-18T03:22:02.384Z"
   },
   {
    "duration": 63,
    "start_time": "2024-05-18T03:22:04.960Z"
   },
   {
    "duration": 14,
    "start_time": "2024-05-18T03:22:19.132Z"
   },
   {
    "duration": 6,
    "start_time": "2024-05-18T03:22:21.845Z"
   },
   {
    "duration": 3,
    "start_time": "2024-05-18T03:22:43.604Z"
   },
   {
    "duration": 14,
    "start_time": "2024-05-18T03:22:52.846Z"
   },
   {
    "duration": 14,
    "start_time": "2024-05-18T03:23:01.681Z"
   },
   {
    "duration": 14,
    "start_time": "2024-05-18T03:23:13.174Z"
   },
   {
    "duration": 4,
    "start_time": "2024-05-18T03:23:16.289Z"
   },
   {
    "duration": 63,
    "start_time": "2024-05-18T03:23:28.304Z"
   },
   {
    "duration": 14,
    "start_time": "2024-05-18T03:24:03.284Z"
   },
   {
    "duration": 76,
    "start_time": "2024-05-18T03:24:11.982Z"
   },
   {
    "duration": 1374,
    "start_time": "2024-05-18T03:24:48.930Z"
   },
   {
    "duration": 2854,
    "start_time": "2024-05-18T03:24:50.308Z"
   },
   {
    "duration": 20,
    "start_time": "2024-05-18T03:24:53.165Z"
   },
   {
    "duration": 40,
    "start_time": "2024-05-18T03:24:53.191Z"
   },
   {
    "duration": 18,
    "start_time": "2024-05-18T03:24:53.234Z"
   },
   {
    "duration": 75,
    "start_time": "2024-05-18T03:24:53.255Z"
   },
   {
    "duration": 52,
    "start_time": "2024-05-18T03:24:53.333Z"
   },
   {
    "duration": 79,
    "start_time": "2024-05-18T03:24:53.388Z"
   },
   {
    "duration": 17,
    "start_time": "2024-05-18T03:24:53.470Z"
   },
   {
    "duration": 5,
    "start_time": "2024-05-18T03:24:53.493Z"
   },
   {
    "duration": 6,
    "start_time": "2024-05-18T03:24:53.531Z"
   },
   {
    "duration": 17,
    "start_time": "2024-05-18T03:24:53.539Z"
   },
   {
    "duration": 19,
    "start_time": "2024-05-18T03:24:53.559Z"
   },
   {
    "duration": 556,
    "start_time": "2024-05-18T03:24:53.631Z"
   },
   {
    "duration": 0,
    "start_time": "2024-05-18T03:24:54.190Z"
   },
   {
    "duration": 0,
    "start_time": "2024-05-18T03:24:54.193Z"
   },
   {
    "duration": 5,
    "start_time": "2024-05-18T03:25:30.007Z"
   },
   {
    "duration": 25,
    "start_time": "2024-05-18T03:25:35.761Z"
   },
   {
    "duration": 26,
    "start_time": "2024-05-18T03:25:50.730Z"
   },
   {
    "duration": 70,
    "start_time": "2024-05-18T03:25:52.727Z"
   },
   {
    "duration": 12,
    "start_time": "2024-05-18T03:26:54.422Z"
   },
   {
    "duration": 65,
    "start_time": "2024-05-18T03:27:22.992Z"
   },
   {
    "duration": 6,
    "start_time": "2024-05-18T03:27:27.847Z"
   },
   {
    "duration": 23,
    "start_time": "2024-05-18T03:27:30.012Z"
   },
   {
    "duration": 21,
    "start_time": "2024-05-18T03:27:32.314Z"
   },
   {
    "duration": 5,
    "start_time": "2024-05-18T03:27:53.444Z"
   },
   {
    "duration": 7,
    "start_time": "2024-05-18T03:28:47.554Z"
   },
   {
    "duration": 18,
    "start_time": "2024-05-18T03:29:47.173Z"
   },
   {
    "duration": 19,
    "start_time": "2024-05-18T03:30:22.867Z"
   },
   {
    "duration": 5,
    "start_time": "2024-05-18T03:30:40.246Z"
   },
   {
    "duration": 5,
    "start_time": "2024-05-18T03:33:02.106Z"
   },
   {
    "duration": 23,
    "start_time": "2024-05-18T03:33:39.049Z"
   },
   {
    "duration": 5,
    "start_time": "2024-05-18T03:33:50.437Z"
   },
   {
    "duration": 4,
    "start_time": "2024-05-18T03:34:02.888Z"
   },
   {
    "duration": 4,
    "start_time": "2024-05-18T03:34:15.853Z"
   },
   {
    "duration": 5,
    "start_time": "2024-05-18T03:34:26.017Z"
   },
   {
    "duration": 7,
    "start_time": "2024-05-18T04:01:57.538Z"
   },
   {
    "duration": 6,
    "start_time": "2024-05-18T04:02:03.749Z"
   },
   {
    "duration": 10,
    "start_time": "2024-05-18T04:02:18.530Z"
   },
   {
    "duration": 5,
    "start_time": "2024-05-18T04:04:48.040Z"
   },
   {
    "duration": 15,
    "start_time": "2024-05-18T04:05:23.735Z"
   },
   {
    "duration": 7,
    "start_time": "2024-05-18T04:22:21.476Z"
   },
   {
    "duration": 7,
    "start_time": "2024-05-18T04:22:38.292Z"
   },
   {
    "duration": 7,
    "start_time": "2024-05-18T04:22:59.259Z"
   },
   {
    "duration": 8,
    "start_time": "2024-05-18T04:23:07.843Z"
   },
   {
    "duration": 7,
    "start_time": "2024-05-18T04:23:09.859Z"
   },
   {
    "duration": 6,
    "start_time": "2024-05-18T04:25:08.747Z"
   },
   {
    "duration": 5,
    "start_time": "2024-05-18T04:25:16.084Z"
   },
   {
    "duration": 5,
    "start_time": "2024-05-18T04:25:53.281Z"
   },
   {
    "duration": 5,
    "start_time": "2024-05-18T04:25:58.388Z"
   },
   {
    "duration": 5,
    "start_time": "2024-05-18T04:33:17.058Z"
   },
   {
    "duration": 6,
    "start_time": "2024-05-18T04:33:44.979Z"
   },
   {
    "duration": 6,
    "start_time": "2024-05-18T04:34:02.900Z"
   },
   {
    "duration": 5,
    "start_time": "2024-05-18T04:35:42.006Z"
   },
   {
    "duration": 4,
    "start_time": "2024-05-18T04:36:14.704Z"
   },
   {
    "duration": 5,
    "start_time": "2024-05-18T04:36:18.557Z"
   },
   {
    "duration": 308,
    "start_time": "2024-05-21T03:30:30.744Z"
   },
   {
    "duration": 5068,
    "start_time": "2024-05-21T03:30:36.269Z"
   },
   {
    "duration": 3627,
    "start_time": "2024-05-21T03:30:41.341Z"
   },
   {
    "duration": 21,
    "start_time": "2024-05-21T03:30:44.970Z"
   },
   {
    "duration": 33,
    "start_time": "2024-05-21T03:30:44.994Z"
   },
   {
    "duration": 18,
    "start_time": "2024-05-21T03:30:45.032Z"
   },
   {
    "duration": 89,
    "start_time": "2024-05-21T03:30:45.052Z"
   },
   {
    "duration": 74,
    "start_time": "2024-05-21T03:30:45.143Z"
   },
   {
    "duration": 60,
    "start_time": "2024-05-21T03:30:45.220Z"
   },
   {
    "duration": 34,
    "start_time": "2024-05-21T03:30:45.282Z"
   },
   {
    "duration": 7,
    "start_time": "2024-05-21T03:30:45.319Z"
   },
   {
    "duration": 7,
    "start_time": "2024-05-21T03:30:45.329Z"
   },
   {
    "duration": 17,
    "start_time": "2024-05-21T03:30:45.339Z"
   },
   {
    "duration": 58,
    "start_time": "2024-05-21T03:30:45.360Z"
   },
   {
    "duration": 5,
    "start_time": "2024-05-21T03:30:45.424Z"
   },
   {
    "duration": 5,
    "start_time": "2024-05-21T03:30:45.431Z"
   },
   {
    "duration": 24,
    "start_time": "2024-05-21T03:30:45.510Z"
   },
   {
    "duration": 16,
    "start_time": "2024-05-21T03:30:45.611Z"
   },
   {
    "duration": 9,
    "start_time": "2024-05-21T03:30:45.630Z"
   },
   {
    "duration": 68,
    "start_time": "2024-05-21T03:30:45.644Z"
   },
   {
    "duration": 93,
    "start_time": "2024-05-21T03:30:45.716Z"
   },
   {
    "duration": 19,
    "start_time": "2024-05-21T03:30:45.812Z"
   },
   {
    "duration": 6,
    "start_time": "2024-05-21T03:30:45.834Z"
   },
   {
    "duration": 67,
    "start_time": "2024-05-21T03:30:45.843Z"
   },
   {
    "duration": 5,
    "start_time": "2024-05-21T03:30:45.913Z"
   },
   {
    "duration": 7,
    "start_time": "2024-05-21T03:30:45.921Z"
   },
   {
    "duration": 81,
    "start_time": "2024-05-21T03:30:45.930Z"
   },
   {
    "duration": 5,
    "start_time": "2024-05-21T03:30:46.013Z"
   },
   {
    "duration": 4,
    "start_time": "2024-05-21T03:30:46.022Z"
   },
   {
    "duration": 5,
    "start_time": "2024-05-21T03:30:46.029Z"
   },
   {
    "duration": 506,
    "start_time": "2024-05-21T03:31:18.030Z"
   },
   {
    "duration": 10,
    "start_time": "2024-05-21T03:31:28.362Z"
   },
   {
    "duration": 28,
    "start_time": "2024-05-21T03:32:18.268Z"
   },
   {
    "duration": 27,
    "start_time": "2024-05-21T03:32:47.682Z"
   },
   {
    "duration": 32,
    "start_time": "2024-05-21T03:33:13.817Z"
   },
   {
    "duration": 33,
    "start_time": "2024-05-21T03:33:33.137Z"
   },
   {
    "duration": 26,
    "start_time": "2024-05-21T03:35:40.437Z"
   },
   {
    "duration": 36,
    "start_time": "2024-05-21T03:35:50.789Z"
   },
   {
    "duration": 1627,
    "start_time": "2024-05-21T03:36:35.626Z"
   },
   {
    "duration": 30,
    "start_time": "2024-05-21T03:37:09.770Z"
   },
   {
    "duration": 27,
    "start_time": "2024-05-21T03:39:11.086Z"
   },
   {
    "duration": 36,
    "start_time": "2024-05-21T03:39:24.602Z"
   },
   {
    "duration": 35,
    "start_time": "2024-05-21T03:39:32.028Z"
   },
   {
    "duration": 6,
    "start_time": "2024-05-21T03:41:09.711Z"
   },
   {
    "duration": 4,
    "start_time": "2024-05-21T03:41:17.745Z"
   },
   {
    "duration": 24,
    "start_time": "2024-05-21T03:41:32.325Z"
   },
   {
    "duration": 5,
    "start_time": "2024-05-21T03:41:49.355Z"
   },
   {
    "duration": 29,
    "start_time": "2024-05-21T03:43:05.439Z"
   },
   {
    "duration": 4,
    "start_time": "2024-05-21T03:43:18.363Z"
   },
   {
    "duration": 35,
    "start_time": "2024-05-21T03:43:46.953Z"
   },
   {
    "duration": 5,
    "start_time": "2024-05-21T03:43:59.673Z"
   },
   {
    "duration": 27,
    "start_time": "2024-05-21T03:45:22.921Z"
   },
   {
    "duration": 5,
    "start_time": "2024-05-21T03:45:34.222Z"
   },
   {
    "duration": 5,
    "start_time": "2024-05-21T03:45:53.736Z"
   },
   {
    "duration": 5,
    "start_time": "2024-05-21T03:46:27.679Z"
   },
   {
    "duration": 5,
    "start_time": "2024-05-21T03:46:37.503Z"
   },
   {
    "duration": 5,
    "start_time": "2024-05-21T03:46:49.352Z"
   },
   {
    "duration": 4,
    "start_time": "2024-05-21T03:47:58.750Z"
   },
   {
    "duration": 5,
    "start_time": "2024-05-21T03:48:28.655Z"
   },
   {
    "duration": 5,
    "start_time": "2024-05-21T03:49:06.418Z"
   },
   {
    "duration": 6,
    "start_time": "2024-05-21T03:49:30.090Z"
   },
   {
    "duration": 5,
    "start_time": "2024-05-21T03:49:35.560Z"
   },
   {
    "duration": 6,
    "start_time": "2024-05-21T03:56:41.402Z"
   },
   {
    "duration": 7,
    "start_time": "2024-05-21T03:56:53.527Z"
   },
   {
    "duration": 5,
    "start_time": "2024-05-21T03:57:42.217Z"
   },
   {
    "duration": 6,
    "start_time": "2024-05-21T03:58:51.745Z"
   },
   {
    "duration": 7,
    "start_time": "2024-05-21T04:00:47.544Z"
   },
   {
    "duration": 8,
    "start_time": "2024-05-21T04:01:08.527Z"
   },
   {
    "duration": 3,
    "start_time": "2024-05-21T04:01:15.585Z"
   },
   {
    "duration": 5,
    "start_time": "2024-05-21T04:01:21.051Z"
   },
   {
    "duration": 6,
    "start_time": "2024-05-21T04:01:41.389Z"
   },
   {
    "duration": 7,
    "start_time": "2024-05-21T04:01:50.065Z"
   },
   {
    "duration": 6,
    "start_time": "2024-05-21T04:03:20.646Z"
   },
   {
    "duration": 5,
    "start_time": "2024-05-21T04:03:27.445Z"
   },
   {
    "duration": 6,
    "start_time": "2024-05-21T04:04:26.933Z"
   },
   {
    "duration": 6,
    "start_time": "2024-05-21T04:05:44.777Z"
   },
   {
    "duration": 7,
    "start_time": "2024-05-21T04:06:09.003Z"
   },
   {
    "duration": 13,
    "start_time": "2024-05-21T04:07:07.331Z"
   },
   {
    "duration": 6,
    "start_time": "2024-05-21T04:07:23.449Z"
   },
   {
    "duration": 4,
    "start_time": "2024-05-21T04:07:45.907Z"
   },
   {
    "duration": 6,
    "start_time": "2024-05-21T04:08:10.051Z"
   },
   {
    "duration": 5,
    "start_time": "2024-05-21T04:08:13.639Z"
   },
   {
    "duration": 4,
    "start_time": "2024-05-21T04:08:44.990Z"
   },
   {
    "duration": 28,
    "start_time": "2024-05-21T04:08:54.928Z"
   },
   {
    "duration": 5,
    "start_time": "2024-05-21T04:09:13.816Z"
   },
   {
    "duration": 6,
    "start_time": "2024-05-21T04:09:43.058Z"
   },
   {
    "duration": 4,
    "start_time": "2024-05-21T04:10:20.571Z"
   },
   {
    "duration": 4,
    "start_time": "2024-05-21T04:10:24.477Z"
   },
   {
    "duration": 8,
    "start_time": "2024-05-21T04:10:58.058Z"
   },
   {
    "duration": 7,
    "start_time": "2024-05-21T04:11:34.356Z"
   },
   {
    "duration": 7,
    "start_time": "2024-05-21T04:12:21.178Z"
   },
   {
    "duration": 6,
    "start_time": "2024-05-21T04:12:41.629Z"
   },
   {
    "duration": 4,
    "start_time": "2024-05-21T04:14:54.986Z"
   },
   {
    "duration": 30,
    "start_time": "2024-05-21T04:33:07.131Z"
   },
   {
    "duration": 48,
    "start_time": "2024-05-21T04:34:28.143Z"
   },
   {
    "duration": 37,
    "start_time": "2024-05-21T04:34:42.337Z"
   },
   {
    "duration": 28,
    "start_time": "2024-05-21T04:35:19.822Z"
   },
   {
    "duration": 1664,
    "start_time": "2024-05-21T04:35:39.662Z"
   },
   {
    "duration": 344,
    "start_time": "2024-05-21T04:36:48.813Z"
   },
   {
    "duration": 8,
    "start_time": "2024-05-21T04:37:30.205Z"
   },
   {
    "duration": 613,
    "start_time": "2024-05-21T04:38:06.796Z"
   },
   {
    "duration": 322,
    "start_time": "2024-05-21T04:38:26.949Z"
   },
   {
    "duration": 583,
    "start_time": "2024-05-21T04:38:41.830Z"
   },
   {
    "duration": 585,
    "start_time": "2024-05-21T04:41:52.157Z"
   },
   {
    "duration": 582,
    "start_time": "2024-05-21T04:42:16.342Z"
   },
   {
    "duration": 603,
    "start_time": "2024-05-21T04:42:43.716Z"
   },
   {
    "duration": 579,
    "start_time": "2024-05-21T04:51:20.061Z"
   },
   {
    "duration": 595,
    "start_time": "2024-05-21T05:06:13.926Z"
   },
   {
    "duration": 34,
    "start_time": "2024-05-21T05:15:52.300Z"
   },
   {
    "duration": 221,
    "start_time": "2024-05-21T05:17:11.863Z"
   },
   {
    "duration": 161,
    "start_time": "2024-05-21T05:18:27.065Z"
   },
   {
    "duration": 117,
    "start_time": "2024-05-21T05:18:46.563Z"
   },
   {
    "duration": 108,
    "start_time": "2024-05-21T05:18:48.928Z"
   },
   {
    "duration": 142,
    "start_time": "2024-05-21T05:24:06.828Z"
   },
   {
    "duration": 5098,
    "start_time": "2024-05-22T03:02:38.242Z"
   },
   {
    "duration": 3635,
    "start_time": "2024-05-22T03:02:43.344Z"
   },
   {
    "duration": 34,
    "start_time": "2024-05-22T03:02:46.982Z"
   },
   {
    "duration": 19,
    "start_time": "2024-05-22T03:02:47.020Z"
   },
   {
    "duration": 20,
    "start_time": "2024-05-22T03:02:47.043Z"
   },
   {
    "duration": 60,
    "start_time": "2024-05-22T03:02:47.103Z"
   },
   {
    "duration": 74,
    "start_time": "2024-05-22T03:02:47.166Z"
   },
   {
    "duration": 75,
    "start_time": "2024-05-22T03:02:47.243Z"
   },
   {
    "duration": 19,
    "start_time": "2024-05-22T03:02:47.321Z"
   },
   {
    "duration": 10,
    "start_time": "2024-05-22T03:02:47.344Z"
   },
   {
    "duration": 6,
    "start_time": "2024-05-22T03:02:47.358Z"
   },
   {
    "duration": 19,
    "start_time": "2024-05-22T03:02:47.403Z"
   },
   {
    "duration": 25,
    "start_time": "2024-05-22T03:02:47.425Z"
   },
   {
    "duration": 7,
    "start_time": "2024-05-22T03:02:47.501Z"
   },
   {
    "duration": 9,
    "start_time": "2024-05-22T03:02:47.511Z"
   },
   {
    "duration": 92,
    "start_time": "2024-05-22T03:02:47.524Z"
   },
   {
    "duration": 24,
    "start_time": "2024-05-22T03:02:47.620Z"
   },
   {
    "duration": 56,
    "start_time": "2024-05-22T03:02:47.647Z"
   },
   {
    "duration": 15,
    "start_time": "2024-05-22T03:02:47.707Z"
   },
   {
    "duration": 89,
    "start_time": "2024-05-22T03:02:47.727Z"
   },
   {
    "duration": 17,
    "start_time": "2024-05-22T03:02:47.820Z"
   },
   {
    "duration": 5,
    "start_time": "2024-05-22T03:02:47.840Z"
   },
   {
    "duration": 55,
    "start_time": "2024-05-22T03:02:47.849Z"
   },
   {
    "duration": 15,
    "start_time": "2024-05-22T03:02:47.908Z"
   },
   {
    "duration": 6,
    "start_time": "2024-05-22T03:02:47.927Z"
   },
   {
    "duration": 5,
    "start_time": "2024-05-22T03:02:48.002Z"
   },
   {
    "duration": 6,
    "start_time": "2024-05-22T03:02:48.010Z"
   },
   {
    "duration": 5,
    "start_time": "2024-05-22T03:02:48.019Z"
   },
   {
    "duration": 7,
    "start_time": "2024-05-22T03:02:48.027Z"
   },
   {
    "duration": 5,
    "start_time": "2024-05-22T03:02:48.037Z"
   },
   {
    "duration": 7,
    "start_time": "2024-05-22T03:02:48.101Z"
   },
   {
    "duration": 5,
    "start_time": "2024-05-22T03:02:48.112Z"
   },
   {
    "duration": 7,
    "start_time": "2024-05-22T03:02:48.120Z"
   },
   {
    "duration": 5,
    "start_time": "2024-05-22T03:02:48.134Z"
   },
   {
    "duration": 1084,
    "start_time": "2024-05-22T03:02:48.142Z"
   },
   {
    "duration": 5,
    "start_time": "2024-05-22T03:04:37.914Z"
   },
   {
    "duration": 110,
    "start_time": "2024-05-22T04:03:59.969Z"
   },
   {
    "duration": 3593,
    "start_time": "2024-05-22T04:11:13.055Z"
   },
   {
    "duration": 33,
    "start_time": "2024-05-22T04:11:57.302Z"
   },
   {
    "duration": 3560,
    "start_time": "2024-05-22T04:12:15.410Z"
   },
   {
    "duration": 4214,
    "start_time": "2024-05-22T04:13:17.978Z"
   },
   {
    "duration": 7,
    "start_time": "2024-05-22T04:19:29.289Z"
   },
   {
    "duration": 6,
    "start_time": "2024-05-22T04:19:42.314Z"
   },
   {
    "duration": 8,
    "start_time": "2024-05-22T04:20:05.023Z"
   },
   {
    "duration": 5,
    "start_time": "2024-05-22T04:20:17.060Z"
   },
   {
    "duration": 6,
    "start_time": "2024-05-22T04:20:33.970Z"
   },
   {
    "duration": 5,
    "start_time": "2024-05-22T04:22:03.072Z"
   },
   {
    "duration": 5,
    "start_time": "2024-05-22T04:22:38.728Z"
   },
   {
    "duration": 5,
    "start_time": "2024-05-22T04:24:28.032Z"
   },
   {
    "duration": 6,
    "start_time": "2024-05-22T04:28:21.610Z"
   },
   {
    "duration": 6,
    "start_time": "2024-05-22T04:28:24.958Z"
   },
   {
    "duration": 7,
    "start_time": "2024-05-22T04:28:33.494Z"
   },
   {
    "duration": 4,
    "start_time": "2024-05-22T04:28:57.671Z"
   },
   {
    "duration": 30,
    "start_time": "2024-05-22T04:30:27.505Z"
   },
   {
    "duration": 5,
    "start_time": "2024-05-22T04:30:34.799Z"
   },
   {
    "duration": 4,
    "start_time": "2024-05-22T04:32:46.068Z"
   },
   {
    "duration": 5,
    "start_time": "2024-05-22T04:32:59.821Z"
   },
   {
    "duration": 5,
    "start_time": "2024-05-22T04:33:17.471Z"
   },
   {
    "duration": 6,
    "start_time": "2024-05-22T04:34:26.429Z"
   },
   {
    "duration": 4,
    "start_time": "2024-05-22T04:35:04.600Z"
   },
   {
    "duration": 5,
    "start_time": "2024-05-22T04:36:54.794Z"
   },
   {
    "duration": 3,
    "start_time": "2024-05-22T04:39:42.343Z"
   },
   {
    "duration": 4,
    "start_time": "2024-05-22T04:44:00.689Z"
   },
   {
    "duration": 4,
    "start_time": "2024-05-22T04:44:13.950Z"
   },
   {
    "duration": 5,
    "start_time": "2024-05-22T04:44:37.923Z"
   },
   {
    "duration": 4,
    "start_time": "2024-05-22T04:44:52.474Z"
   },
   {
    "duration": 3541,
    "start_time": "2024-05-22T04:53:15.776Z"
   },
   {
    "duration": 1673,
    "start_time": "2024-05-22T04:53:39.725Z"
   },
   {
    "duration": 1599,
    "start_time": "2024-05-22T04:53:55.988Z"
   },
   {
    "duration": 1668,
    "start_time": "2024-05-22T04:54:38.134Z"
   },
   {
    "duration": 1518,
    "start_time": "2024-05-22T04:54:59.935Z"
   },
   {
    "duration": 1547,
    "start_time": "2024-05-22T04:55:13.961Z"
   },
   {
    "duration": 1561,
    "start_time": "2024-05-22T04:55:29.489Z"
   },
   {
    "duration": 1664,
    "start_time": "2024-05-22T04:55:42.363Z"
   },
   {
    "duration": 1650,
    "start_time": "2024-05-22T04:56:03.712Z"
   },
   {
    "duration": 1661,
    "start_time": "2024-05-22T04:56:12.637Z"
   },
   {
    "duration": 1645,
    "start_time": "2024-05-22T04:56:22.920Z"
   },
   {
    "duration": 1590,
    "start_time": "2024-05-22T04:56:33.821Z"
   },
   {
    "duration": 8,
    "start_time": "2024-05-22T04:56:48.789Z"
   },
   {
    "duration": 6,
    "start_time": "2024-05-22T04:57:41.603Z"
   },
   {
    "duration": 6,
    "start_time": "2024-05-22T04:57:48.695Z"
   },
   {
    "duration": 6,
    "start_time": "2024-05-22T04:58:00.410Z"
   },
   {
    "duration": 571,
    "start_time": "2024-05-22T04:58:18.885Z"
   },
   {
    "duration": 570,
    "start_time": "2024-05-22T04:59:36.980Z"
   },
   {
    "duration": 6,
    "start_time": "2024-05-22T04:59:54.372Z"
   },
   {
    "duration": 573,
    "start_time": "2024-05-22T05:00:28.266Z"
   },
   {
    "duration": 571,
    "start_time": "2024-05-22T05:00:50.490Z"
   },
   {
    "duration": 569,
    "start_time": "2024-05-22T05:00:59.892Z"
   },
   {
    "duration": 569,
    "start_time": "2024-05-22T05:01:29.936Z"
   },
   {
    "duration": 584,
    "start_time": "2024-05-22T05:01:51.801Z"
   },
   {
    "duration": 209,
    "start_time": "2024-05-22T05:02:29.111Z"
   },
   {
    "duration": 185,
    "start_time": "2024-05-22T05:02:41.657Z"
   },
   {
    "duration": 210,
    "start_time": "2024-05-22T05:02:48.168Z"
   },
   {
    "duration": 576,
    "start_time": "2024-05-22T05:02:59.573Z"
   },
   {
    "duration": 8,
    "start_time": "2024-05-22T05:03:32.486Z"
   },
   {
    "duration": 8,
    "start_time": "2024-05-22T05:04:10.841Z"
   },
   {
    "duration": 6,
    "start_time": "2024-05-22T05:05:31.836Z"
   },
   {
    "duration": 6,
    "start_time": "2024-05-22T05:05:38.253Z"
   },
   {
    "duration": 576,
    "start_time": "2024-05-22T05:05:52.297Z"
   },
   {
    "duration": 6,
    "start_time": "2024-05-22T05:05:56.156Z"
   },
   {
    "duration": 182,
    "start_time": "2024-05-22T05:06:22.338Z"
   },
   {
    "duration": 287,
    "start_time": "2024-05-22T05:06:25.216Z"
   },
   {
    "duration": 898,
    "start_time": "2024-05-22T05:06:31.263Z"
   },
   {
    "duration": 8,
    "start_time": "2024-05-22T05:13:21.639Z"
   },
   {
    "duration": 42,
    "start_time": "2024-05-22T05:13:59.153Z"
   },
   {
    "duration": 41,
    "start_time": "2024-05-22T05:15:34.099Z"
   },
   {
    "duration": 42,
    "start_time": "2024-05-22T05:15:46.113Z"
   },
   {
    "duration": 682,
    "start_time": "2024-05-22T05:15:58.809Z"
   },
   {
    "duration": 676,
    "start_time": "2024-05-22T05:16:20.911Z"
   },
   {
    "duration": 677,
    "start_time": "2024-05-22T05:16:49.611Z"
   },
   {
    "duration": 681,
    "start_time": "2024-05-22T05:17:44.144Z"
   },
   {
    "duration": 681,
    "start_time": "2024-05-22T05:18:33.501Z"
   },
   {
    "duration": 679,
    "start_time": "2024-05-22T05:18:40.822Z"
   },
   {
    "duration": 704,
    "start_time": "2024-05-22T05:18:45.884Z"
   },
   {
    "duration": 4,
    "start_time": "2024-05-22T05:21:41.095Z"
   },
   {
    "duration": 687,
    "start_time": "2024-05-22T05:22:40.544Z"
   },
   {
    "duration": 681,
    "start_time": "2024-05-22T05:23:13.926Z"
   },
   {
    "duration": 706,
    "start_time": "2024-05-22T05:23:35.799Z"
   },
   {
    "duration": 684,
    "start_time": "2024-05-22T05:23:51.357Z"
   },
   {
    "duration": 206,
    "start_time": "2024-05-22T05:24:32.179Z"
   },
   {
    "duration": 211,
    "start_time": "2024-05-22T05:26:06.046Z"
   },
   {
    "duration": 192,
    "start_time": "2024-05-22T05:26:15.257Z"
   },
   {
    "duration": 6,
    "start_time": "2024-05-22T05:26:36.035Z"
   },
   {
    "duration": 7,
    "start_time": "2024-05-22T05:26:50.683Z"
   },
   {
    "duration": 1343,
    "start_time": "2024-05-22T05:27:01.133Z"
   },
   {
    "duration": 3307,
    "start_time": "2024-05-22T05:27:02.479Z"
   },
   {
    "duration": 27,
    "start_time": "2024-05-22T05:27:05.789Z"
   },
   {
    "duration": 18,
    "start_time": "2024-05-22T05:27:05.819Z"
   },
   {
    "duration": 18,
    "start_time": "2024-05-22T05:27:05.841Z"
   },
   {
    "duration": 92,
    "start_time": "2024-05-22T05:27:05.864Z"
   },
   {
    "duration": 77,
    "start_time": "2024-05-22T05:27:05.959Z"
   },
   {
    "duration": 72,
    "start_time": "2024-05-22T05:27:06.039Z"
   },
   {
    "duration": 19,
    "start_time": "2024-05-22T05:27:06.114Z"
   },
   {
    "duration": 6,
    "start_time": "2024-05-22T05:27:06.136Z"
   },
   {
    "duration": 8,
    "start_time": "2024-05-22T05:27:06.145Z"
   },
   {
    "duration": 59,
    "start_time": "2024-05-22T05:27:06.157Z"
   },
   {
    "duration": 19,
    "start_time": "2024-05-22T05:27:06.219Z"
   },
   {
    "duration": 58,
    "start_time": "2024-05-22T05:27:06.245Z"
   },
   {
    "duration": 6,
    "start_time": "2024-05-22T05:27:06.306Z"
   },
   {
    "duration": 95,
    "start_time": "2024-05-22T05:27:06.315Z"
   },
   {
    "duration": 15,
    "start_time": "2024-05-22T05:27:06.414Z"
   },
   {
    "duration": 6,
    "start_time": "2024-05-22T05:27:06.432Z"
   },
   {
    "duration": 71,
    "start_time": "2024-05-22T05:27:06.440Z"
   },
   {
    "duration": 99,
    "start_time": "2024-05-22T05:27:06.514Z"
   },
   {
    "duration": 16,
    "start_time": "2024-05-22T05:27:06.616Z"
   },
   {
    "duration": 5,
    "start_time": "2024-05-22T05:27:06.635Z"
   },
   {
    "duration": 62,
    "start_time": "2024-05-22T05:27:06.644Z"
   },
   {
    "duration": 6,
    "start_time": "2024-05-22T05:27:06.709Z"
   },
   {
    "duration": 6,
    "start_time": "2024-05-22T05:27:06.720Z"
   },
   {
    "duration": 3,
    "start_time": "2024-05-22T05:27:06.803Z"
   },
   {
    "duration": 6,
    "start_time": "2024-05-22T05:27:06.809Z"
   },
   {
    "duration": 6,
    "start_time": "2024-05-22T05:27:06.818Z"
   },
   {
    "duration": 6,
    "start_time": "2024-05-22T05:27:06.827Z"
   },
   {
    "duration": 7,
    "start_time": "2024-05-22T05:27:06.836Z"
   },
   {
    "duration": 62,
    "start_time": "2024-05-22T05:27:06.846Z"
   },
   {
    "duration": 8,
    "start_time": "2024-05-22T05:27:06.910Z"
   },
   {
    "duration": 5,
    "start_time": "2024-05-22T05:27:06.921Z"
   },
   {
    "duration": 7,
    "start_time": "2024-05-22T05:27:06.929Z"
   },
   {
    "duration": 5,
    "start_time": "2024-05-22T05:27:06.938Z"
   },
   {
    "duration": 767,
    "start_time": "2024-05-22T05:27:06.947Z"
   },
   {
    "duration": 708,
    "start_time": "2024-05-22T05:27:07.717Z"
   },
   {
    "duration": 696,
    "start_time": "2024-05-22T05:27:08.428Z"
   },
   {
    "duration": 286,
    "start_time": "2024-05-22T05:27:09.127Z"
   },
   {
    "duration": 591,
    "start_time": "2024-05-22T05:31:31.792Z"
   },
   {
    "duration": 598,
    "start_time": "2024-05-22T05:31:41.411Z"
   },
   {
    "duration": 581,
    "start_time": "2024-05-22T05:31:59.657Z"
   },
   {
    "duration": 714,
    "start_time": "2024-05-22T05:33:16.358Z"
   },
   {
    "duration": 696,
    "start_time": "2024-05-22T05:33:40.960Z"
   },
   {
    "duration": 695,
    "start_time": "2024-05-22T05:35:09.620Z"
   },
   {
    "duration": 704,
    "start_time": "2024-05-22T05:35:32.665Z"
   },
   {
    "duration": 268,
    "start_time": "2024-05-22T05:36:32.120Z"
   },
   {
    "duration": 256,
    "start_time": "2024-05-22T05:36:44.735Z"
   },
   {
    "duration": 332,
    "start_time": "2024-05-22T05:38:46.520Z"
   },
   {
    "duration": 8,
    "start_time": "2024-05-22T05:40:28.824Z"
   },
   {
    "duration": 236,
    "start_time": "2024-05-22T05:41:08.873Z"
   },
   {
    "duration": 8,
    "start_time": "2024-05-22T05:41:18.433Z"
   },
   {
    "duration": 8,
    "start_time": "2024-05-22T05:41:49.335Z"
   },
   {
    "duration": 34,
    "start_time": "2024-05-22T05:45:05.257Z"
   },
   {
    "duration": 290,
    "start_time": "2024-05-22T05:45:13.656Z"
   },
   {
    "duration": 926,
    "start_time": "2024-05-22T05:45:56.303Z"
   },
   {
    "duration": 1340,
    "start_time": "2024-05-22T05:46:56.861Z"
   },
   {
    "duration": 3690,
    "start_time": "2024-05-22T05:46:58.206Z"
   },
   {
    "duration": 22,
    "start_time": "2024-05-22T05:47:01.898Z"
   },
   {
    "duration": 18,
    "start_time": "2024-05-22T05:47:01.923Z"
   },
   {
    "duration": 17,
    "start_time": "2024-05-22T05:47:01.947Z"
   },
   {
    "duration": 57,
    "start_time": "2024-05-22T05:47:02.002Z"
   },
   {
    "duration": 71,
    "start_time": "2024-05-22T05:47:02.062Z"
   },
   {
    "duration": 69,
    "start_time": "2024-05-22T05:47:02.136Z"
   },
   {
    "duration": 17,
    "start_time": "2024-05-22T05:47:02.207Z"
   },
   {
    "duration": 6,
    "start_time": "2024-05-22T05:47:02.227Z"
   },
   {
    "duration": 8,
    "start_time": "2024-05-22T05:47:02.237Z"
   },
   {
    "duration": 58,
    "start_time": "2024-05-22T05:47:02.248Z"
   },
   {
    "duration": 16,
    "start_time": "2024-05-22T05:47:02.309Z"
   },
   {
    "duration": 74,
    "start_time": "2024-05-22T05:47:02.332Z"
   },
   {
    "duration": 5,
    "start_time": "2024-05-22T05:47:02.411Z"
   },
   {
    "duration": 92,
    "start_time": "2024-05-22T05:47:02.420Z"
   },
   {
    "duration": 17,
    "start_time": "2024-05-22T05:47:02.514Z"
   },
   {
    "duration": 5,
    "start_time": "2024-05-22T05:47:02.534Z"
   },
   {
    "duration": 8,
    "start_time": "2024-05-22T05:47:02.601Z"
   },
   {
    "duration": 93,
    "start_time": "2024-05-22T05:47:02.613Z"
   },
   {
    "duration": 16,
    "start_time": "2024-05-22T05:47:02.709Z"
   },
   {
    "duration": 6,
    "start_time": "2024-05-22T05:47:02.728Z"
   },
   {
    "duration": 66,
    "start_time": "2024-05-22T05:47:02.737Z"
   },
   {
    "duration": 5,
    "start_time": "2024-05-22T05:47:02.806Z"
   },
   {
    "duration": 5,
    "start_time": "2024-05-22T05:47:02.814Z"
   },
   {
    "duration": 3,
    "start_time": "2024-05-22T05:47:02.822Z"
   },
   {
    "duration": 5,
    "start_time": "2024-05-22T05:47:02.903Z"
   },
   {
    "duration": 4,
    "start_time": "2024-05-22T05:47:02.915Z"
   },
   {
    "duration": 6,
    "start_time": "2024-05-22T05:47:02.922Z"
   },
   {
    "duration": 7,
    "start_time": "2024-05-22T05:47:02.930Z"
   },
   {
    "duration": 4,
    "start_time": "2024-05-22T05:47:02.940Z"
   },
   {
    "duration": 7,
    "start_time": "2024-05-22T05:47:02.947Z"
   },
   {
    "duration": 6,
    "start_time": "2024-05-22T05:47:03.001Z"
   },
   {
    "duration": 8,
    "start_time": "2024-05-22T05:47:03.011Z"
   },
   {
    "duration": 6,
    "start_time": "2024-05-22T05:47:03.022Z"
   },
   {
    "duration": 357,
    "start_time": "2024-05-22T05:47:03.032Z"
   },
   {
    "duration": 693,
    "start_time": "2024-05-22T05:47:03.401Z"
   },
   {
    "duration": 687,
    "start_time": "2024-05-22T05:47:04.102Z"
   },
   {
    "duration": 274,
    "start_time": "2024-05-22T05:47:04.801Z"
   },
   {
    "duration": 598,
    "start_time": "2024-05-22T05:47:05.078Z"
   },
   {
    "duration": 20,
    "start_time": "2024-05-22T05:47:05.683Z"
   },
   {
    "duration": 973,
    "start_time": "2024-05-22T05:47:05.706Z"
   },
   {
    "duration": 678,
    "start_time": "2024-05-22T05:47:10.597Z"
   },
   {
    "duration": 5179,
    "start_time": "2024-05-23T02:47:34.568Z"
   },
   {
    "duration": 6290,
    "start_time": "2024-05-23T02:47:39.751Z"
   },
   {
    "duration": 20,
    "start_time": "2024-05-23T02:47:46.044Z"
   },
   {
    "duration": 17,
    "start_time": "2024-05-23T02:47:46.069Z"
   },
   {
    "duration": 19,
    "start_time": "2024-05-23T02:47:46.110Z"
   },
   {
    "duration": 79,
    "start_time": "2024-05-23T02:47:46.132Z"
   },
   {
    "duration": 52,
    "start_time": "2024-05-23T02:47:46.215Z"
   },
   {
    "duration": 79,
    "start_time": "2024-05-23T02:47:46.270Z"
   },
   {
    "duration": 15,
    "start_time": "2024-05-23T02:47:46.352Z"
   },
   {
    "duration": 5,
    "start_time": "2024-05-23T02:47:46.370Z"
   },
   {
    "duration": 32,
    "start_time": "2024-05-23T02:47:46.378Z"
   },
   {
    "duration": 17,
    "start_time": "2024-05-23T02:47:46.413Z"
   },
   {
    "duration": 28,
    "start_time": "2024-05-23T02:47:46.433Z"
   },
   {
    "duration": 42,
    "start_time": "2024-05-23T02:47:46.468Z"
   },
   {
    "duration": 7,
    "start_time": "2024-05-23T02:47:46.513Z"
   },
   {
    "duration": 95,
    "start_time": "2024-05-23T02:47:46.522Z"
   },
   {
    "duration": 19,
    "start_time": "2024-05-23T02:47:46.620Z"
   },
   {
    "duration": 5,
    "start_time": "2024-05-23T02:47:46.642Z"
   },
   {
    "duration": 67,
    "start_time": "2024-05-23T02:47:46.650Z"
   },
   {
    "duration": 93,
    "start_time": "2024-05-23T02:47:46.723Z"
   },
   {
    "duration": 15,
    "start_time": "2024-05-23T02:47:46.819Z"
   },
   {
    "duration": 5,
    "start_time": "2024-05-23T02:47:46.838Z"
   },
   {
    "duration": 64,
    "start_time": "2024-05-23T02:47:46.846Z"
   },
   {
    "duration": 8,
    "start_time": "2024-05-23T02:47:46.913Z"
   },
   {
    "duration": 84,
    "start_time": "2024-05-23T02:47:46.926Z"
   },
   {
    "duration": 5,
    "start_time": "2024-05-23T02:47:47.013Z"
   },
   {
    "duration": 6,
    "start_time": "2024-05-23T02:47:47.021Z"
   },
   {
    "duration": 6,
    "start_time": "2024-05-23T02:47:47.030Z"
   },
   {
    "duration": 5,
    "start_time": "2024-05-23T02:47:47.040Z"
   },
   {
    "duration": 61,
    "start_time": "2024-05-23T02:47:47.048Z"
   },
   {
    "duration": 6,
    "start_time": "2024-05-23T02:47:47.112Z"
   },
   {
    "duration": 7,
    "start_time": "2024-05-23T02:47:47.121Z"
   },
   {
    "duration": 5,
    "start_time": "2024-05-23T02:47:47.131Z"
   },
   {
    "duration": 6,
    "start_time": "2024-05-23T02:47:47.139Z"
   },
   {
    "duration": 5,
    "start_time": "2024-05-23T02:47:47.149Z"
   },
   {
    "duration": 293,
    "start_time": "2024-05-23T02:47:47.209Z"
   },
   {
    "duration": 720,
    "start_time": "2024-05-23T02:47:47.509Z"
   },
   {
    "duration": 700,
    "start_time": "2024-05-23T02:47:48.232Z"
   },
   {
    "duration": 223,
    "start_time": "2024-05-23T02:47:48.935Z"
   },
   {
    "duration": 617,
    "start_time": "2024-05-23T02:47:49.162Z"
   },
   {
    "duration": 8,
    "start_time": "2024-05-23T02:47:49.787Z"
   },
   {
    "duration": 921,
    "start_time": "2024-05-23T02:47:49.810Z"
   },
   {
    "duration": 905,
    "start_time": "2024-05-23T03:22:21.574Z"
   },
   {
    "duration": 891,
    "start_time": "2024-05-23T03:23:29.580Z"
   },
   {
    "duration": 1009,
    "start_time": "2024-05-23T03:23:37.035Z"
   },
   {
    "duration": 206,
    "start_time": "2024-05-23T03:24:45.983Z"
   },
   {
    "duration": 21,
    "start_time": "2024-05-23T03:24:48.806Z"
   },
   {
    "duration": 300,
    "start_time": "2024-05-23T03:24:56.170Z"
   },
   {
    "duration": 24,
    "start_time": "2024-05-23T03:25:02.175Z"
   },
   {
    "duration": 4,
    "start_time": "2024-05-23T03:25:20.091Z"
   },
   {
    "duration": 22,
    "start_time": "2024-05-23T03:25:39.028Z"
   },
   {
    "duration": 8,
    "start_time": "2024-05-23T03:25:46.004Z"
   },
   {
    "duration": 11,
    "start_time": "2024-05-23T03:25:57.143Z"
   },
   {
    "duration": 2028,
    "start_time": "2024-05-23T03:26:20.619Z"
   },
   {
    "duration": 4229,
    "start_time": "2024-05-23T03:26:51.750Z"
   },
   {
    "duration": 4217,
    "start_time": "2024-05-23T03:27:06.541Z"
   },
   {
    "duration": 13,
    "start_time": "2024-05-23T03:29:20.917Z"
   },
   {
    "duration": 4175,
    "start_time": "2024-05-23T03:30:38.496Z"
   },
   {
    "duration": 4249,
    "start_time": "2024-05-23T03:31:02.941Z"
   },
   {
    "duration": 4247,
    "start_time": "2024-05-23T03:31:36.754Z"
   },
   {
    "duration": 4265,
    "start_time": "2024-05-23T03:34:02.157Z"
   },
   {
    "duration": 4207,
    "start_time": "2024-05-23T03:35:27.443Z"
   },
   {
    "duration": 4217,
    "start_time": "2024-05-23T03:35:46.739Z"
   },
   {
    "duration": 4236,
    "start_time": "2024-05-23T03:36:59.047Z"
   },
   {
    "duration": 4228,
    "start_time": "2024-05-23T03:37:39.125Z"
   },
   {
    "duration": 11,
    "start_time": "2024-05-23T03:38:24.307Z"
   },
   {
    "duration": 4654,
    "start_time": "2024-05-23T03:38:28.666Z"
   },
   {
    "duration": 4243,
    "start_time": "2024-05-23T03:38:40.378Z"
   },
   {
    "duration": 4228,
    "start_time": "2024-05-23T03:39:28.036Z"
   },
   {
    "duration": 4273,
    "start_time": "2024-05-23T03:39:52.239Z"
   },
   {
    "duration": 4240,
    "start_time": "2024-05-23T03:40:41.110Z"
   },
   {
    "duration": 4219,
    "start_time": "2024-05-23T03:41:25.949Z"
   },
   {
    "duration": 4201,
    "start_time": "2024-05-23T03:41:58.442Z"
   },
   {
    "duration": 10,
    "start_time": "2024-05-23T03:44:37.979Z"
   },
   {
    "duration": 4230,
    "start_time": "2024-05-23T03:44:56.789Z"
   },
   {
    "duration": 4169,
    "start_time": "2024-05-23T03:45:28.418Z"
   },
   {
    "duration": 14,
    "start_time": "2024-05-23T03:48:25.398Z"
   },
   {
    "duration": 4568,
    "start_time": "2024-05-23T03:50:24.814Z"
   },
   {
    "duration": 4157,
    "start_time": "2024-05-23T03:52:39.578Z"
   },
   {
    "duration": 327,
    "start_time": "2024-05-23T03:52:57.095Z"
   },
   {
    "duration": 81,
    "start_time": "2024-05-23T03:53:09.691Z"
   },
   {
    "duration": 87,
    "start_time": "2024-05-23T03:53:11.982Z"
   },
   {
    "duration": 4181,
    "start_time": "2024-05-23T03:53:26.403Z"
   },
   {
    "duration": 4233,
    "start_time": "2024-05-23T03:53:52.454Z"
   },
   {
    "duration": 1427,
    "start_time": "2024-05-23T03:54:24.565Z"
   },
   {
    "duration": 3050,
    "start_time": "2024-05-23T03:54:25.997Z"
   },
   {
    "duration": 21,
    "start_time": "2024-05-23T03:54:29.050Z"
   },
   {
    "duration": 42,
    "start_time": "2024-05-23T03:54:29.075Z"
   },
   {
    "duration": 18,
    "start_time": "2024-05-23T03:54:29.121Z"
   },
   {
    "duration": 77,
    "start_time": "2024-05-23T03:54:29.142Z"
   },
   {
    "duration": 51,
    "start_time": "2024-05-23T03:54:29.221Z"
   },
   {
    "duration": 77,
    "start_time": "2024-05-23T03:54:29.275Z"
   },
   {
    "duration": 16,
    "start_time": "2024-05-23T03:54:29.355Z"
   },
   {
    "duration": 5,
    "start_time": "2024-05-23T03:54:29.374Z"
   },
   {
    "duration": 31,
    "start_time": "2024-05-23T03:54:29.382Z"
   },
   {
    "duration": 17,
    "start_time": "2024-05-23T03:54:29.416Z"
   },
   {
    "duration": 17,
    "start_time": "2024-05-23T03:54:29.435Z"
   },
   {
    "duration": 55,
    "start_time": "2024-05-23T03:54:29.458Z"
   },
   {
    "duration": 8,
    "start_time": "2024-05-23T03:54:29.517Z"
   },
   {
    "duration": 95,
    "start_time": "2024-05-23T03:54:29.530Z"
   },
   {
    "duration": 19,
    "start_time": "2024-05-23T03:54:29.628Z"
   },
   {
    "duration": 59,
    "start_time": "2024-05-23T03:54:29.649Z"
   },
   {
    "duration": 8,
    "start_time": "2024-05-23T03:54:29.711Z"
   },
   {
    "duration": 90,
    "start_time": "2024-05-23T03:54:29.722Z"
   },
   {
    "duration": 16,
    "start_time": "2024-05-23T03:54:29.815Z"
   },
   {
    "duration": 5,
    "start_time": "2024-05-23T03:54:29.835Z"
   },
   {
    "duration": 67,
    "start_time": "2024-05-23T03:54:29.843Z"
   },
   {
    "duration": 6,
    "start_time": "2024-05-23T03:54:29.913Z"
   },
   {
    "duration": 8,
    "start_time": "2024-05-23T03:54:29.923Z"
   },
   {
    "duration": 4,
    "start_time": "2024-05-23T03:54:30.008Z"
   },
   {
    "duration": 4,
    "start_time": "2024-05-23T03:54:30.016Z"
   },
   {
    "duration": 5,
    "start_time": "2024-05-23T03:54:30.023Z"
   },
   {
    "duration": 5,
    "start_time": "2024-05-23T03:54:30.031Z"
   },
   {
    "duration": 6,
    "start_time": "2024-05-23T03:54:30.039Z"
   },
   {
    "duration": 6,
    "start_time": "2024-05-23T03:54:30.048Z"
   },
   {
    "duration": 5,
    "start_time": "2024-05-23T03:54:30.110Z"
   },
   {
    "duration": 5,
    "start_time": "2024-05-23T03:54:30.118Z"
   },
   {
    "duration": 6,
    "start_time": "2024-05-23T03:54:30.127Z"
   },
   {
    "duration": 5,
    "start_time": "2024-05-23T03:54:30.136Z"
   },
   {
    "duration": 4740,
    "start_time": "2024-05-23T03:54:30.144Z"
   },
   {
    "duration": 0,
    "start_time": "2024-05-23T03:54:34.887Z"
   },
   {
    "duration": 0,
    "start_time": "2024-05-23T03:54:34.889Z"
   },
   {
    "duration": 0,
    "start_time": "2024-05-23T03:54:51.148Z"
   },
   {
    "duration": 4230,
    "start_time": "2024-05-23T03:55:12.479Z"
   },
   {
    "duration": 4192,
    "start_time": "2024-05-23T03:55:35.371Z"
   },
   {
    "duration": 4272,
    "start_time": "2024-05-23T03:55:43.572Z"
   },
   {
    "duration": 4169,
    "start_time": "2024-05-23T03:56:58.858Z"
   },
   {
    "duration": 4226,
    "start_time": "2024-05-23T03:57:45.539Z"
   },
   {
    "duration": 4234,
    "start_time": "2024-05-23T03:58:34.597Z"
   },
   {
    "duration": 4209,
    "start_time": "2024-05-23T03:58:52.787Z"
   },
   {
    "duration": 4193,
    "start_time": "2024-05-23T03:59:03.069Z"
   },
   {
    "duration": 4187,
    "start_time": "2024-05-23T03:59:26.023Z"
   },
   {
    "duration": 4173,
    "start_time": "2024-05-23T03:59:38.030Z"
   },
   {
    "duration": 4207,
    "start_time": "2024-05-23T03:59:51.171Z"
   },
   {
    "duration": 4170,
    "start_time": "2024-05-23T03:59:56.413Z"
   },
   {
    "duration": 4147,
    "start_time": "2024-05-23T04:00:18.691Z"
   },
   {
    "duration": 12,
    "start_time": "2024-05-23T04:01:04.567Z"
   },
   {
    "duration": 23,
    "start_time": "2024-05-23T04:01:08.946Z"
   },
   {
    "duration": 54,
    "start_time": "2024-05-23T04:02:41.684Z"
   },
   {
    "duration": 4176,
    "start_time": "2024-05-23T04:02:52.850Z"
   },
   {
    "duration": 7,
    "start_time": "2024-05-23T04:04:34.142Z"
   },
   {
    "duration": 8,
    "start_time": "2024-05-23T04:04:46.447Z"
   },
   {
    "duration": 7,
    "start_time": "2024-05-23T04:04:51.255Z"
   },
   {
    "duration": 4338,
    "start_time": "2024-05-23T04:05:44.793Z"
   },
   {
    "duration": 326,
    "start_time": "2024-05-23T04:07:37.154Z"
   },
   {
    "duration": 97,
    "start_time": "2024-05-23T04:07:52.692Z"
   },
   {
    "duration": 4294,
    "start_time": "2024-05-23T04:08:08.657Z"
   },
   {
    "duration": 3586,
    "start_time": "2024-05-23T04:15:47.071Z"
   },
   {
    "duration": 3510,
    "start_time": "2024-05-23T04:19:20.322Z"
   },
   {
    "duration": 3566,
    "start_time": "2024-05-23T04:19:36.128Z"
   },
   {
    "duration": 3725,
    "start_time": "2024-05-23T04:40:40.686Z"
   },
   {
    "duration": 3600,
    "start_time": "2024-05-23T04:41:10.642Z"
   },
   {
    "duration": 3483,
    "start_time": "2024-05-23T04:41:19.169Z"
   },
   {
    "duration": 8,
    "start_time": "2024-05-23T04:46:26.910Z"
   },
   {
    "duration": 1382,
    "start_time": "2024-05-24T05:59:09.446Z"
   },
   {
    "duration": 2832,
    "start_time": "2024-05-24T05:59:10.832Z"
   },
   {
    "duration": 22,
    "start_time": "2024-05-24T05:59:13.667Z"
   },
   {
    "duration": 17,
    "start_time": "2024-05-24T05:59:13.694Z"
   },
   {
    "duration": 19,
    "start_time": "2024-05-24T05:59:13.732Z"
   },
   {
    "duration": 79,
    "start_time": "2024-05-24T05:59:13.754Z"
   },
   {
    "duration": 51,
    "start_time": "2024-05-24T05:59:13.836Z"
   },
   {
    "duration": 74,
    "start_time": "2024-05-24T05:59:13.890Z"
   },
   {
    "duration": 16,
    "start_time": "2024-05-24T05:59:13.967Z"
   },
   {
    "duration": 6,
    "start_time": "2024-05-24T05:59:13.991Z"
   },
   {
    "duration": 7,
    "start_time": "2024-05-24T05:59:14.032Z"
   },
   {
    "duration": 19,
    "start_time": "2024-05-24T05:59:14.043Z"
   },
   {
    "duration": 17,
    "start_time": "2024-05-24T05:59:14.064Z"
   },
   {
    "duration": 49,
    "start_time": "2024-05-24T05:59:14.084Z"
   },
   {
    "duration": 5,
    "start_time": "2024-05-24T05:59:14.136Z"
   },
   {
    "duration": 89,
    "start_time": "2024-05-24T05:59:14.144Z"
   },
   {
    "duration": 15,
    "start_time": "2024-05-24T05:59:14.236Z"
   },
   {
    "duration": 5,
    "start_time": "2024-05-24T05:59:14.258Z"
   },
   {
    "duration": 8,
    "start_time": "2024-05-24T05:59:14.331Z"
   },
   {
    "duration": 88,
    "start_time": "2024-05-24T05:59:14.347Z"
   },
   {
    "duration": 15,
    "start_time": "2024-05-24T05:59:14.438Z"
   },
   {
    "duration": 6,
    "start_time": "2024-05-24T05:59:14.456Z"
   },
   {
    "duration": 66,
    "start_time": "2024-05-24T05:59:14.465Z"
   },
   {
    "duration": 5,
    "start_time": "2024-05-24T05:59:14.535Z"
   },
   {
    "duration": 5,
    "start_time": "2024-05-24T05:59:14.544Z"
   },
   {
    "duration": 78,
    "start_time": "2024-05-24T05:59:14.552Z"
   },
   {
    "duration": 5,
    "start_time": "2024-05-24T05:59:14.634Z"
   },
   {
    "duration": 6,
    "start_time": "2024-05-24T05:59:14.648Z"
   },
   {
    "duration": 4,
    "start_time": "2024-05-24T05:59:14.657Z"
   },
   {
    "duration": 6,
    "start_time": "2024-05-24T05:59:14.665Z"
   },
   {
    "duration": 58,
    "start_time": "2024-05-24T05:59:14.674Z"
   },
   {
    "duration": 7,
    "start_time": "2024-05-24T05:59:14.735Z"
   },
   {
    "duration": 5,
    "start_time": "2024-05-24T05:59:14.745Z"
   },
   {
    "duration": 7,
    "start_time": "2024-05-24T05:59:14.754Z"
   },
   {
    "duration": 5,
    "start_time": "2024-05-24T05:59:14.763Z"
   },
   {
    "duration": 3572,
    "start_time": "2024-05-24T05:59:49.907Z"
   },
   {
    "duration": 8,
    "start_time": "2024-05-24T05:59:57.258Z"
   },
   {
    "duration": 4933,
    "start_time": "2024-05-24T12:45:58.053Z"
   },
   {
    "duration": 3032,
    "start_time": "2024-05-24T12:46:02.990Z"
   },
   {
    "duration": 24,
    "start_time": "2024-05-24T12:46:06.024Z"
   },
   {
    "duration": 25,
    "start_time": "2024-05-24T12:46:06.052Z"
   },
   {
    "duration": 49,
    "start_time": "2024-05-24T12:46:06.083Z"
   },
   {
    "duration": 57,
    "start_time": "2024-05-24T12:46:06.135Z"
   },
   {
    "duration": 72,
    "start_time": "2024-05-24T12:46:06.194Z"
   },
   {
    "duration": 71,
    "start_time": "2024-05-24T12:46:06.269Z"
   },
   {
    "duration": 16,
    "start_time": "2024-05-24T12:46:06.343Z"
   },
   {
    "duration": 5,
    "start_time": "2024-05-24T12:46:06.362Z"
   },
   {
    "duration": 7,
    "start_time": "2024-05-24T12:46:06.371Z"
   },
   {
    "duration": 57,
    "start_time": "2024-05-24T12:46:06.381Z"
   },
   {
    "duration": 16,
    "start_time": "2024-05-24T12:46:06.442Z"
   },
   {
    "duration": 5,
    "start_time": "2024-05-24T12:46:06.464Z"
   },
   {
    "duration": 7,
    "start_time": "2024-05-24T12:46:06.536Z"
   },
   {
    "duration": 94,
    "start_time": "2024-05-24T12:46:06.552Z"
   },
   {
    "duration": 17,
    "start_time": "2024-05-24T12:46:06.649Z"
   },
   {
    "duration": 62,
    "start_time": "2024-05-24T12:46:06.668Z"
   },
   {
    "duration": 7,
    "start_time": "2024-05-24T12:46:06.734Z"
   },
   {
    "duration": 90,
    "start_time": "2024-05-24T12:46:06.744Z"
   },
   {
    "duration": 17,
    "start_time": "2024-05-24T12:46:06.837Z"
   },
   {
    "duration": 6,
    "start_time": "2024-05-24T12:46:06.856Z"
   },
   {
    "duration": 66,
    "start_time": "2024-05-24T12:46:06.865Z"
   },
   {
    "duration": 6,
    "start_time": "2024-05-24T12:46:06.934Z"
   },
   {
    "duration": 88,
    "start_time": "2024-05-24T12:46:06.942Z"
   },
   {
    "duration": 4,
    "start_time": "2024-05-24T12:46:07.033Z"
   },
   {
    "duration": 5,
    "start_time": "2024-05-24T12:46:07.041Z"
   },
   {
    "duration": 4,
    "start_time": "2024-05-24T12:46:07.050Z"
   },
   {
    "duration": 5,
    "start_time": "2024-05-24T12:46:07.058Z"
   },
   {
    "duration": 7,
    "start_time": "2024-05-24T12:46:07.067Z"
   },
   {
    "duration": 5,
    "start_time": "2024-05-24T12:46:07.130Z"
   },
   {
    "duration": 7,
    "start_time": "2024-05-24T12:46:07.138Z"
   },
   {
    "duration": 6,
    "start_time": "2024-05-24T12:46:07.147Z"
   },
   {
    "duration": 7,
    "start_time": "2024-05-24T12:46:07.155Z"
   },
   {
    "duration": 5,
    "start_time": "2024-05-24T12:46:07.165Z"
   },
   {
    "duration": 3571,
    "start_time": "2024-05-24T12:46:07.174Z"
   },
   {
    "duration": 3530,
    "start_time": "2024-05-24T12:46:10.748Z"
   },
   {
    "duration": 3496,
    "start_time": "2024-05-24T12:46:14.281Z"
   },
   {
    "duration": 5171,
    "start_time": "2024-05-25T04:04:15.390Z"
   },
   {
    "duration": 3535,
    "start_time": "2024-05-25T04:04:20.565Z"
   },
   {
    "duration": 27,
    "start_time": "2024-05-25T04:04:24.103Z"
   },
   {
    "duration": 19,
    "start_time": "2024-05-25T04:04:24.133Z"
   },
   {
    "duration": 17,
    "start_time": "2024-05-25T04:04:24.156Z"
   },
   {
    "duration": 92,
    "start_time": "2024-05-25T04:04:24.176Z"
   },
   {
    "duration": 59,
    "start_time": "2024-05-25T04:04:24.275Z"
   },
   {
    "duration": 57,
    "start_time": "2024-05-25T04:04:24.337Z"
   },
   {
    "duration": 36,
    "start_time": "2024-05-25T04:04:24.396Z"
   },
   {
    "duration": 6,
    "start_time": "2024-05-25T04:04:24.436Z"
   },
   {
    "duration": 8,
    "start_time": "2024-05-25T04:04:24.444Z"
   },
   {
    "duration": 18,
    "start_time": "2024-05-25T04:04:24.456Z"
   },
   {
    "duration": 60,
    "start_time": "2024-05-25T04:04:24.477Z"
   },
   {
    "duration": 6,
    "start_time": "2024-05-25T04:04:24.544Z"
   },
   {
    "duration": 77,
    "start_time": "2024-05-25T04:04:24.553Z"
   },
   {
    "duration": 98,
    "start_time": "2024-05-25T04:04:24.633Z"
   },
   {
    "duration": 16,
    "start_time": "2024-05-25T04:04:24.733Z"
   },
   {
    "duration": 6,
    "start_time": "2024-05-25T04:04:24.752Z"
   },
   {
    "duration": 79,
    "start_time": "2024-05-25T04:04:24.760Z"
   },
   {
    "duration": 97,
    "start_time": "2024-05-25T04:04:24.842Z"
   },
   {
    "duration": 25,
    "start_time": "2024-05-25T04:04:24.942Z"
   },
   {
    "duration": 68,
    "start_time": "2024-05-25T04:04:24.969Z"
   },
   {
    "duration": 6,
    "start_time": "2024-05-25T04:04:25.040Z"
   },
   {
    "duration": 82,
    "start_time": "2024-05-25T04:04:25.049Z"
   },
   {
    "duration": 6,
    "start_time": "2024-05-25T04:04:25.135Z"
   },
   {
    "duration": 5,
    "start_time": "2024-05-25T04:04:25.144Z"
   },
   {
    "duration": 5,
    "start_time": "2024-05-25T04:04:25.155Z"
   },
   {
    "duration": 6,
    "start_time": "2024-05-25T04:04:25.163Z"
   },
   {
    "duration": 59,
    "start_time": "2024-05-25T04:04:25.172Z"
   },
   {
    "duration": 7,
    "start_time": "2024-05-25T04:04:25.233Z"
   },
   {
    "duration": 7,
    "start_time": "2024-05-25T04:04:25.243Z"
   },
   {
    "duration": 8,
    "start_time": "2024-05-25T04:04:25.253Z"
   },
   {
    "duration": 5,
    "start_time": "2024-05-25T04:04:25.264Z"
   },
   {
    "duration": 7,
    "start_time": "2024-05-25T04:04:25.273Z"
   },
   {
    "duration": 4,
    "start_time": "2024-05-25T04:04:25.330Z"
   },
   {
    "duration": 3588,
    "start_time": "2024-05-25T04:04:25.338Z"
   },
   {
    "duration": 3661,
    "start_time": "2024-05-25T04:04:28.931Z"
   },
   {
    "duration": 3762,
    "start_time": "2024-05-25T04:04:32.596Z"
   },
   {
    "duration": 7,
    "start_time": "2024-05-25T04:05:22.715Z"
   },
   {
    "duration": 7,
    "start_time": "2024-05-25T04:05:31.471Z"
   },
   {
    "duration": 324,
    "start_time": "2024-05-26T05:07:56.092Z"
   },
   {
    "duration": 4967,
    "start_time": "2024-05-26T05:08:04.895Z"
   },
   {
    "duration": 2900,
    "start_time": "2024-05-26T05:08:09.866Z"
   },
   {
    "duration": 21,
    "start_time": "2024-05-26T05:08:12.768Z"
   },
   {
    "duration": 17,
    "start_time": "2024-05-26T05:08:12.792Z"
   },
   {
    "duration": 18,
    "start_time": "2024-05-26T05:08:12.834Z"
   },
   {
    "duration": 76,
    "start_time": "2024-05-26T05:08:12.857Z"
   },
   {
    "duration": 51,
    "start_time": "2024-05-26T05:08:12.936Z"
   },
   {
    "duration": 75,
    "start_time": "2024-05-26T05:08:12.990Z"
   },
   {
    "duration": 16,
    "start_time": "2024-05-26T05:08:13.068Z"
   },
   {
    "duration": 6,
    "start_time": "2024-05-26T05:08:13.087Z"
   },
   {
    "duration": 40,
    "start_time": "2024-05-26T05:08:13.096Z"
   },
   {
    "duration": 18,
    "start_time": "2024-05-26T05:08:13.139Z"
   },
   {
    "duration": 16,
    "start_time": "2024-05-26T05:08:13.160Z"
   },
   {
    "duration": 54,
    "start_time": "2024-05-26T05:08:13.183Z"
   },
   {
    "duration": 8,
    "start_time": "2024-05-26T05:08:13.240Z"
   },
   {
    "duration": 92,
    "start_time": "2024-05-26T05:08:13.255Z"
   },
   {
    "duration": 16,
    "start_time": "2024-05-26T05:08:13.351Z"
   },
   {
    "duration": 5,
    "start_time": "2024-05-26T05:08:13.370Z"
   },
   {
    "duration": 60,
    "start_time": "2024-05-26T05:08:13.379Z"
   },
   {
    "duration": 92,
    "start_time": "2024-05-26T05:08:13.441Z"
   },
   {
    "duration": 15,
    "start_time": "2024-05-26T05:08:13.536Z"
   },
   {
    "duration": 5,
    "start_time": "2024-05-26T05:08:13.555Z"
   },
   {
    "duration": 70,
    "start_time": "2024-05-26T05:08:13.563Z"
   },
   {
    "duration": 13,
    "start_time": "2024-05-26T05:08:13.636Z"
   },
   {
    "duration": 82,
    "start_time": "2024-05-26T05:08:13.651Z"
   },
   {
    "duration": 4,
    "start_time": "2024-05-26T05:08:13.736Z"
   },
   {
    "duration": 5,
    "start_time": "2024-05-26T05:08:13.743Z"
   },
   {
    "duration": 5,
    "start_time": "2024-05-26T05:08:13.752Z"
   },
   {
    "duration": 4,
    "start_time": "2024-05-26T05:08:13.760Z"
   },
   {
    "duration": 6,
    "start_time": "2024-05-26T05:08:13.767Z"
   },
   {
    "duration": 60,
    "start_time": "2024-05-26T05:08:13.775Z"
   },
   {
    "duration": 6,
    "start_time": "2024-05-26T05:08:13.837Z"
   },
   {
    "duration": 5,
    "start_time": "2024-05-26T05:08:13.847Z"
   },
   {
    "duration": 7,
    "start_time": "2024-05-26T05:08:13.855Z"
   },
   {
    "duration": 5,
    "start_time": "2024-05-26T05:08:13.865Z"
   },
   {
    "duration": 3625,
    "start_time": "2024-05-26T05:08:13.873Z"
   },
   {
    "duration": 3490,
    "start_time": "2024-05-26T05:08:17.501Z"
   },
   {
    "duration": 3687,
    "start_time": "2024-05-26T05:08:20.993Z"
   },
   {
    "duration": 5556,
    "start_time": "2024-05-26T05:08:24.686Z"
   },
   {
    "duration": 487,
    "start_time": "2024-05-26T05:09:12.415Z"
   },
   {
    "duration": 7273,
    "start_time": "2024-05-26T05:09:21.460Z"
   },
   {
    "duration": 5243,
    "start_time": "2024-05-26T05:09:43.467Z"
   },
   {
    "duration": 5183,
    "start_time": "2024-05-26T05:20:08.621Z"
   },
   {
    "duration": 7,
    "start_time": "2024-05-26T05:22:11.473Z"
   },
   {
    "duration": 330,
    "start_time": "2024-05-27T04:28:51.219Z"
   },
   {
    "duration": 1483,
    "start_time": "2024-05-27T04:28:55.375Z"
   },
   {
    "duration": 2974,
    "start_time": "2024-05-27T04:28:56.861Z"
   },
   {
    "duration": 24,
    "start_time": "2024-05-27T04:28:59.838Z"
   },
   {
    "duration": 20,
    "start_time": "2024-05-27T04:28:59.865Z"
   },
   {
    "duration": 18,
    "start_time": "2024-05-27T04:28:59.915Z"
   },
   {
    "duration": 84,
    "start_time": "2024-05-27T04:28:59.935Z"
   },
   {
    "duration": 53,
    "start_time": "2024-05-27T04:29:00.022Z"
   },
   {
    "duration": 76,
    "start_time": "2024-05-27T04:29:00.078Z"
   },
   {
    "duration": 16,
    "start_time": "2024-05-27T04:29:00.157Z"
   },
   {
    "duration": 5,
    "start_time": "2024-05-27T04:29:00.176Z"
   },
   {
    "duration": 32,
    "start_time": "2024-05-27T04:29:00.184Z"
   },
   {
    "duration": 17,
    "start_time": "2024-05-27T04:29:00.219Z"
   },
   {
    "duration": 17,
    "start_time": "2024-05-27T04:29:00.239Z"
   },
   {
    "duration": 6,
    "start_time": "2024-05-27T04:29:00.312Z"
   },
   {
    "duration": 6,
    "start_time": "2024-05-27T04:29:00.321Z"
   },
   {
    "duration": 93,
    "start_time": "2024-05-27T04:29:00.330Z"
   },
   {
    "duration": 17,
    "start_time": "2024-05-27T04:29:00.426Z"
   },
   {
    "duration": 5,
    "start_time": "2024-05-27T04:29:00.446Z"
   },
   {
    "duration": 13,
    "start_time": "2024-05-27T04:29:00.514Z"
   },
   {
    "duration": 93,
    "start_time": "2024-05-27T04:29:00.530Z"
   },
   {
    "duration": 17,
    "start_time": "2024-05-27T04:29:00.626Z"
   },
   {
    "duration": 5,
    "start_time": "2024-05-27T04:29:00.646Z"
   },
   {
    "duration": 60,
    "start_time": "2024-05-27T04:29:00.654Z"
   },
   {
    "duration": 7,
    "start_time": "2024-05-27T04:29:00.718Z"
   },
   {
    "duration": 83,
    "start_time": "2024-05-27T04:29:00.728Z"
   },
   {
    "duration": 4,
    "start_time": "2024-05-27T04:29:00.815Z"
   },
   {
    "duration": 4,
    "start_time": "2024-05-27T04:29:00.823Z"
   },
   {
    "duration": 5,
    "start_time": "2024-05-27T04:29:00.831Z"
   },
   {
    "duration": 5,
    "start_time": "2024-05-27T04:29:00.840Z"
   },
   {
    "duration": 6,
    "start_time": "2024-05-27T04:29:00.848Z"
   },
   {
    "duration": 59,
    "start_time": "2024-05-27T04:29:00.857Z"
   },
   {
    "duration": 16,
    "start_time": "2024-05-27T04:29:00.920Z"
   },
   {
    "duration": 5,
    "start_time": "2024-05-27T04:29:00.940Z"
   },
   {
    "duration": 13,
    "start_time": "2024-05-27T04:29:00.950Z"
   },
   {
    "duration": 6,
    "start_time": "2024-05-27T04:29:00.967Z"
   },
   {
    "duration": 3633,
    "start_time": "2024-05-27T04:29:01.012Z"
   },
   {
    "duration": 126,
    "start_time": "2024-05-27T04:30:47.532Z"
   },
   {
    "duration": 21,
    "start_time": "2024-05-27T04:30:55.811Z"
   },
   {
    "duration": 874,
    "start_time": "2024-05-27T04:31:09.763Z"
   },
   {
    "duration": 127,
    "start_time": "2024-05-27T04:31:18.479Z"
   },
   {
    "duration": 14,
    "start_time": "2024-05-27T04:31:26.460Z"
   },
   {
    "duration": 5012,
    "start_time": "2024-05-29T04:20:39.984Z"
   },
   {
    "duration": 3310,
    "start_time": "2024-05-29T04:20:45.001Z"
   },
   {
    "duration": 21,
    "start_time": "2024-05-29T04:20:48.314Z"
   },
   {
    "duration": 18,
    "start_time": "2024-05-29T04:20:48.338Z"
   },
   {
    "duration": 51,
    "start_time": "2024-05-29T04:20:48.362Z"
   },
   {
    "duration": 65,
    "start_time": "2024-05-29T04:20:48.419Z"
   },
   {
    "duration": 76,
    "start_time": "2024-05-29T04:20:48.487Z"
   },
   {
    "duration": 75,
    "start_time": "2024-05-29T04:20:48.566Z"
   },
   {
    "duration": 16,
    "start_time": "2024-05-29T04:20:48.643Z"
   },
   {
    "duration": 5,
    "start_time": "2024-05-29T04:20:48.662Z"
   },
   {
    "duration": 37,
    "start_time": "2024-05-29T04:20:48.671Z"
   },
   {
    "duration": 19,
    "start_time": "2024-05-29T04:20:48.711Z"
   },
   {
    "duration": 17,
    "start_time": "2024-05-29T04:20:48.732Z"
   },
   {
    "duration": 5,
    "start_time": "2024-05-29T04:20:48.808Z"
   },
   {
    "duration": 6,
    "start_time": "2024-05-29T04:20:48.817Z"
   },
   {
    "duration": 93,
    "start_time": "2024-05-29T04:20:48.826Z"
   },
   {
    "duration": 18,
    "start_time": "2024-05-29T04:20:48.921Z"
   },
   {
    "duration": 5,
    "start_time": "2024-05-29T04:20:48.942Z"
   },
   {
    "duration": 8,
    "start_time": "2024-05-29T04:20:49.009Z"
   },
   {
    "duration": 93,
    "start_time": "2024-05-29T04:20:49.020Z"
   },
   {
    "duration": 16,
    "start_time": "2024-05-29T04:20:49.116Z"
   },
   {
    "duration": 6,
    "start_time": "2024-05-29T04:20:49.135Z"
   },
   {
    "duration": 66,
    "start_time": "2024-05-29T04:20:49.144Z"
   },
   {
    "duration": 6,
    "start_time": "2024-05-29T04:20:49.214Z"
   },
   {
    "duration": 7,
    "start_time": "2024-05-29T04:20:49.223Z"
   },
   {
    "duration": 4,
    "start_time": "2024-05-29T04:20:49.310Z"
   },
   {
    "duration": 5,
    "start_time": "2024-05-29T04:20:49.318Z"
   },
   {
    "duration": 5,
    "start_time": "2024-05-29T04:20:49.327Z"
   },
   {
    "duration": 5,
    "start_time": "2024-05-29T04:20:49.336Z"
   },
   {
    "duration": 6,
    "start_time": "2024-05-29T04:20:49.344Z"
   },
   {
    "duration": 58,
    "start_time": "2024-05-29T04:20:49.353Z"
   },
   {
    "duration": 6,
    "start_time": "2024-05-29T04:20:49.414Z"
   },
   {
    "duration": 6,
    "start_time": "2024-05-29T04:20:49.423Z"
   },
   {
    "duration": 8,
    "start_time": "2024-05-29T04:20:49.431Z"
   },
   {
    "duration": 5,
    "start_time": "2024-05-29T04:20:49.443Z"
   },
   {
    "duration": 3631,
    "start_time": "2024-05-29T04:20:49.451Z"
   },
   {
    "duration": 23,
    "start_time": "2024-05-29T04:20:53.085Z"
   },
   {
    "duration": 5279,
    "start_time": "2024-05-29T04:20:53.111Z"
   },
   {
    "duration": 3517,
    "start_time": "2024-05-29T04:20:58.393Z"
   },
   {
    "duration": 3591,
    "start_time": "2024-05-29T04:21:01.913Z"
   },
   {
    "duration": 5221,
    "start_time": "2024-05-29T04:21:05.515Z"
   },
   {
    "duration": 5,
    "start_time": "2024-05-29T04:25:07.016Z"
   },
   {
    "duration": 14,
    "start_time": "2024-05-29T04:25:15.813Z"
   },
   {
    "duration": 469,
    "start_time": "2024-05-29T04:31:47.652Z"
   },
   {
    "duration": 193,
    "start_time": "2024-05-29T04:32:10.842Z"
   },
   {
    "duration": 9,
    "start_time": "2024-05-29T05:07:36.776Z"
   },
   {
    "duration": 5525,
    "start_time": "2024-05-29T05:10:37.807Z"
   },
   {
    "duration": 5252,
    "start_time": "2024-05-29T05:13:58.901Z"
   },
   {
    "duration": 5499,
    "start_time": "2024-05-29T05:16:51.302Z"
   },
   {
    "duration": 694,
    "start_time": "2024-05-29T05:20:35.581Z"
   },
   {
    "duration": 661,
    "start_time": "2024-05-29T05:22:42.620Z"
   },
   {
    "duration": 563,
    "start_time": "2024-05-29T05:23:17.390Z"
   },
   {
    "duration": 12,
    "start_time": "2024-05-29T05:26:47.913Z"
   },
   {
    "duration": 12,
    "start_time": "2024-05-29T05:26:59.341Z"
   },
   {
    "duration": 9,
    "start_time": "2024-05-29T05:27:16.567Z"
   },
   {
    "duration": 35,
    "start_time": "2024-05-29T05:27:22.972Z"
   },
   {
    "duration": 5227,
    "start_time": "2024-05-29T05:27:32.296Z"
   },
   {
    "duration": 1491,
    "start_time": "2024-05-31T03:19:53.440Z"
   },
   {
    "duration": 3003,
    "start_time": "2024-05-31T03:19:54.935Z"
   },
   {
    "duration": 24,
    "start_time": "2024-05-31T03:19:57.941Z"
   },
   {
    "duration": 33,
    "start_time": "2024-05-31T03:19:57.969Z"
   },
   {
    "duration": 19,
    "start_time": "2024-05-31T03:19:58.006Z"
   },
   {
    "duration": 89,
    "start_time": "2024-05-31T03:19:58.028Z"
   },
   {
    "duration": 73,
    "start_time": "2024-05-31T03:19:58.120Z"
   },
   {
    "duration": 59,
    "start_time": "2024-05-31T03:19:58.197Z"
   },
   {
    "duration": 39,
    "start_time": "2024-05-31T03:19:58.259Z"
   },
   {
    "duration": 7,
    "start_time": "2024-05-31T03:19:58.303Z"
   },
   {
    "duration": 8,
    "start_time": "2024-05-31T03:19:58.313Z"
   },
   {
    "duration": 18,
    "start_time": "2024-05-31T03:19:58.324Z"
   },
   {
    "duration": 58,
    "start_time": "2024-05-31T03:19:58.344Z"
   },
   {
    "duration": 8,
    "start_time": "2024-05-31T03:19:58.406Z"
   },
   {
    "duration": 74,
    "start_time": "2024-05-31T03:19:58.417Z"
   },
   {
    "duration": 31,
    "start_time": "2024-05-31T03:19:58.495Z"
   },
   {
    "duration": 68,
    "start_time": "2024-05-31T03:19:58.529Z"
   },
   {
    "duration": 6,
    "start_time": "2024-05-31T03:19:58.599Z"
   },
   {
    "duration": 11,
    "start_time": "2024-05-31T03:19:58.608Z"
   },
   {
    "duration": 91,
    "start_time": "2024-05-31T03:19:58.622Z"
   },
   {
    "duration": 83,
    "start_time": "2024-05-31T03:19:58.717Z"
   },
   {
    "duration": 10,
    "start_time": "2024-05-31T03:19:58.806Z"
   },
   {
    "duration": 71,
    "start_time": "2024-05-31T03:19:58.822Z"
   },
   {
    "duration": 6,
    "start_time": "2024-05-31T03:19:58.899Z"
   },
   {
    "duration": 8,
    "start_time": "2024-05-31T03:19:58.909Z"
   },
   {
    "duration": 70,
    "start_time": "2024-05-31T03:19:58.920Z"
   },
   {
    "duration": 6,
    "start_time": "2024-05-31T03:19:58.993Z"
   },
   {
    "duration": 4,
    "start_time": "2024-05-31T03:19:59.006Z"
   },
   {
    "duration": 6,
    "start_time": "2024-05-31T03:19:59.013Z"
   },
   {
    "duration": 7,
    "start_time": "2024-05-31T03:19:59.022Z"
   },
   {
    "duration": 5,
    "start_time": "2024-05-31T03:19:59.033Z"
   },
   {
    "duration": 56,
    "start_time": "2024-05-31T03:19:59.040Z"
   },
   {
    "duration": 7,
    "start_time": "2024-05-31T03:19:59.099Z"
   },
   {
    "duration": 7,
    "start_time": "2024-05-31T03:19:59.109Z"
   },
   {
    "duration": 6,
    "start_time": "2024-05-31T03:19:59.118Z"
   },
   {
    "duration": 3794,
    "start_time": "2024-05-31T03:19:59.129Z"
   },
   {
    "duration": 19,
    "start_time": "2024-05-31T03:20:02.926Z"
   },
   {
    "duration": 4,
    "start_time": "2024-05-31T03:20:14.603Z"
   },
   {
    "duration": 5,
    "start_time": "2024-05-31T03:20:20.603Z"
   },
   {
    "duration": 9,
    "start_time": "2024-05-31T03:20:22.843Z"
   },
   {
    "duration": 7,
    "start_time": "2024-05-31T03:20:35.716Z"
   },
   {
    "duration": 9,
    "start_time": "2024-05-31T03:20:44.199Z"
   },
   {
    "duration": 9,
    "start_time": "2024-05-31T03:20:45.140Z"
   },
   {
    "duration": 5491,
    "start_time": "2024-05-31T03:20:48.509Z"
   },
   {
    "duration": 9,
    "start_time": "2024-05-31T03:21:04.379Z"
   },
   {
    "duration": 313,
    "start_time": "2024-05-31T04:41:37.502Z"
   },
   {
    "duration": 5373,
    "start_time": "2024-05-31T04:41:44.463Z"
   },
   {
    "duration": 3395,
    "start_time": "2024-05-31T04:41:49.840Z"
   },
   {
    "duration": 21,
    "start_time": "2024-05-31T04:41:53.238Z"
   },
   {
    "duration": 41,
    "start_time": "2024-05-31T04:41:53.262Z"
   },
   {
    "duration": 24,
    "start_time": "2024-05-31T04:41:53.309Z"
   },
   {
    "duration": 111,
    "start_time": "2024-05-31T04:41:53.336Z"
   },
   {
    "duration": 69,
    "start_time": "2024-05-31T04:41:53.451Z"
   },
   {
    "duration": 87,
    "start_time": "2024-05-31T04:41:53.523Z"
   },
   {
    "duration": 20,
    "start_time": "2024-05-31T04:41:53.614Z"
   },
   {
    "duration": 6,
    "start_time": "2024-05-31T04:41:53.637Z"
   },
   {
    "duration": 7,
    "start_time": "2024-05-31T04:41:53.646Z"
   },
   {
    "duration": 21,
    "start_time": "2024-05-31T04:41:53.692Z"
   },
   {
    "duration": 22,
    "start_time": "2024-05-31T04:41:53.717Z"
   },
   {
    "duration": 6,
    "start_time": "2024-05-31T04:41:53.791Z"
   },
   {
    "duration": 8,
    "start_time": "2024-05-31T04:41:53.800Z"
   },
   {
    "duration": 90,
    "start_time": "2024-05-31T04:41:53.811Z"
   },
   {
    "duration": 21,
    "start_time": "2024-05-31T04:41:53.905Z"
   },
   {
    "duration": 7,
    "start_time": "2024-05-31T04:41:53.928Z"
   },
   {
    "duration": 59,
    "start_time": "2024-05-31T04:41:53.938Z"
   },
   {
    "duration": 89,
    "start_time": "2024-05-31T04:41:54.001Z"
   },
   {
    "duration": 29,
    "start_time": "2024-05-31T04:41:54.096Z"
   },
   {
    "duration": 5,
    "start_time": "2024-05-31T04:41:54.128Z"
   },
   {
    "duration": 55,
    "start_time": "2024-05-31T04:41:54.136Z"
   },
   {
    "duration": 10,
    "start_time": "2024-05-31T04:41:54.194Z"
   },
   {
    "duration": 9,
    "start_time": "2024-05-31T04:41:54.209Z"
   },
   {
    "duration": 6,
    "start_time": "2024-05-31T04:41:54.289Z"
   },
   {
    "duration": 5,
    "start_time": "2024-05-31T04:41:54.300Z"
   },
   {
    "duration": 6,
    "start_time": "2024-05-31T04:41:54.310Z"
   },
   {
    "duration": 6,
    "start_time": "2024-05-31T04:41:54.320Z"
   },
   {
    "duration": 60,
    "start_time": "2024-05-31T04:41:54.330Z"
   },
   {
    "duration": 5,
    "start_time": "2024-05-31T04:41:54.394Z"
   },
   {
    "duration": 7,
    "start_time": "2024-05-31T04:41:54.403Z"
   },
   {
    "duration": 5,
    "start_time": "2024-05-31T04:41:54.413Z"
   },
   {
    "duration": 17,
    "start_time": "2024-05-31T04:41:54.422Z"
   },
   {
    "duration": 51,
    "start_time": "2024-05-31T04:41:54.442Z"
   },
   {
    "duration": 4600,
    "start_time": "2024-05-31T04:41:54.496Z"
   },
   {
    "duration": 16,
    "start_time": "2024-05-31T04:41:59.099Z"
   },
   {
    "duration": 5367,
    "start_time": "2024-05-31T04:41:59.118Z"
   },
   {
    "duration": 3647,
    "start_time": "2024-05-31T04:42:04.491Z"
   },
   {
    "duration": 3618,
    "start_time": "2024-05-31T04:42:08.142Z"
   },
   {
    "duration": 21,
    "start_time": "2024-05-31T04:42:11.770Z"
   },
   {
    "duration": 13,
    "start_time": "2024-05-31T04:42:11.794Z"
   },
   {
    "duration": 5,
    "start_time": "2024-05-31T04:43:46.074Z"
   },
   {
    "duration": 1718,
    "start_time": "2024-05-31T04:47:23.916Z"
   },
   {
    "duration": 1439,
    "start_time": "2024-05-31T04:48:14.316Z"
   },
   {
    "duration": 215,
    "start_time": "2024-05-31T04:50:08.444Z"
   },
   {
    "duration": 1431,
    "start_time": "2024-05-31T04:50:53.092Z"
   },
   {
    "duration": 1412,
    "start_time": "2024-05-31T04:51:13.734Z"
   },
   {
    "duration": 7,
    "start_time": "2024-05-31T04:52:22.816Z"
   },
   {
    "duration": 6,
    "start_time": "2024-05-31T04:55:37.562Z"
   },
   {
    "duration": 16,
    "start_time": "2024-05-31T04:55:41.674Z"
   },
   {
    "duration": 1411,
    "start_time": "2024-05-31T04:56:20.532Z"
   },
   {
    "duration": 1427,
    "start_time": "2024-05-31T04:56:55.778Z"
   },
   {
    "duration": 408,
    "start_time": "2024-05-31T04:59:51.030Z"
   },
   {
    "duration": 6,
    "start_time": "2024-05-31T05:00:07.355Z"
   },
   {
    "duration": 4,
    "start_time": "2024-05-31T05:00:53.877Z"
   },
   {
    "duration": 25,
    "start_time": "2024-05-31T05:01:03.442Z"
   },
   {
    "duration": 6,
    "start_time": "2024-05-31T05:01:08.340Z"
   },
   {
    "duration": 9,
    "start_time": "2024-05-31T05:02:07.172Z"
   },
   {
    "duration": 6,
    "start_time": "2024-05-31T05:02:29.730Z"
   },
   {
    "duration": 7,
    "start_time": "2024-05-31T05:02:50.393Z"
   },
   {
    "duration": 1723,
    "start_time": "2024-05-31T05:03:29.210Z"
   },
   {
    "duration": 10,
    "start_time": "2024-05-31T05:09:35.537Z"
   },
   {
    "duration": 1423,
    "start_time": "2024-05-31T05:09:42.732Z"
   },
   {
    "duration": 5,
    "start_time": "2024-05-31T05:11:02.631Z"
   },
   {
    "duration": 1447,
    "start_time": "2024-05-31T05:11:16.886Z"
   },
   {
    "duration": 1430,
    "start_time": "2024-05-31T05:12:12.523Z"
   },
   {
    "duration": 1466,
    "start_time": "2024-05-31T05:14:01.846Z"
   },
   {
    "duration": 1431,
    "start_time": "2024-05-31T05:14:06.038Z"
   },
   {
    "duration": 1461,
    "start_time": "2024-05-31T05:15:42.331Z"
   },
   {
    "duration": 1624,
    "start_time": "2024-05-31T05:16:55.861Z"
   },
   {
    "duration": 1431,
    "start_time": "2024-05-31T05:18:59.123Z"
   },
   {
    "duration": 1456,
    "start_time": "2024-05-31T05:19:22.173Z"
   },
   {
    "duration": 3939,
    "start_time": "2024-05-31T05:20:21.743Z"
   },
   {
    "duration": 1415,
    "start_time": "2024-05-31T05:21:47.286Z"
   },
   {
    "duration": 1442,
    "start_time": "2024-05-31T05:21:59.968Z"
   },
   {
    "duration": 1397,
    "start_time": "2024-05-31T05:22:46.474Z"
   },
   {
    "duration": 1518,
    "start_time": "2024-05-31T05:25:07.664Z"
   },
   {
    "duration": 2235,
    "start_time": "2024-05-31T05:26:25.166Z"
   },
   {
    "duration": 1467,
    "start_time": "2024-05-31T05:26:42.392Z"
   },
   {
    "duration": 1422,
    "start_time": "2024-05-31T05:27:34.769Z"
   },
   {
    "duration": 1485,
    "start_time": "2024-05-31T05:28:22.197Z"
   },
   {
    "duration": 372,
    "start_time": "2024-05-31T05:29:47.578Z"
   },
   {
    "duration": 3705,
    "start_time": "2024-05-31T05:30:57.521Z"
   },
   {
    "duration": 125,
    "start_time": "2024-05-31T05:31:06.400Z"
   },
   {
    "duration": 143,
    "start_time": "2024-05-31T05:31:48.007Z"
   },
   {
    "duration": 1412,
    "start_time": "2024-05-31T05:32:20.295Z"
   },
   {
    "duration": 1419,
    "start_time": "2024-05-31T05:32:50.172Z"
   },
   {
    "duration": 5841,
    "start_time": "2024-05-31T05:32:51.594Z"
   },
   {
    "duration": 22,
    "start_time": "2024-05-31T05:32:57.438Z"
   },
   {
    "duration": 34,
    "start_time": "2024-05-31T05:32:57.463Z"
   },
   {
    "duration": 18,
    "start_time": "2024-05-31T05:32:57.502Z"
   },
   {
    "duration": 87,
    "start_time": "2024-05-31T05:32:57.523Z"
   },
   {
    "duration": 55,
    "start_time": "2024-05-31T05:32:57.613Z"
   },
   {
    "duration": 77,
    "start_time": "2024-05-31T05:32:57.671Z"
   },
   {
    "duration": 39,
    "start_time": "2024-05-31T05:32:57.751Z"
   },
   {
    "duration": 6,
    "start_time": "2024-05-31T05:32:57.793Z"
   },
   {
    "duration": 8,
    "start_time": "2024-05-31T05:32:57.802Z"
   },
   {
    "duration": 20,
    "start_time": "2024-05-31T05:32:57.813Z"
   },
   {
    "duration": 57,
    "start_time": "2024-05-31T05:32:57.835Z"
   },
   {
    "duration": 5,
    "start_time": "2024-05-31T05:32:57.900Z"
   },
   {
    "duration": 5,
    "start_time": "2024-05-31T05:32:57.908Z"
   },
   {
    "duration": 91,
    "start_time": "2024-05-31T05:32:57.916Z"
   },
   {
    "duration": 16,
    "start_time": "2024-05-31T05:32:58.010Z"
   },
   {
    "duration": 5,
    "start_time": "2024-05-31T05:32:58.029Z"
   },
   {
    "duration": 11,
    "start_time": "2024-05-31T05:32:58.092Z"
   },
   {
    "duration": 93,
    "start_time": "2024-05-31T05:32:58.109Z"
   },
   {
    "duration": 17,
    "start_time": "2024-05-31T05:32:58.206Z"
   },
   {
    "duration": 6,
    "start_time": "2024-05-31T05:32:58.226Z"
   },
   {
    "duration": 61,
    "start_time": "2024-05-31T05:32:58.234Z"
   },
   {
    "duration": 6,
    "start_time": "2024-05-31T05:32:58.299Z"
   },
   {
    "duration": 82,
    "start_time": "2024-05-31T05:32:58.309Z"
   },
   {
    "duration": 5,
    "start_time": "2024-05-31T05:32:58.395Z"
   },
   {
    "duration": 4,
    "start_time": "2024-05-31T05:32:58.404Z"
   },
   {
    "duration": 5,
    "start_time": "2024-05-31T05:32:58.411Z"
   },
   {
    "duration": 5,
    "start_time": "2024-05-31T05:32:58.419Z"
   },
   {
    "duration": 61,
    "start_time": "2024-05-31T05:32:58.428Z"
   },
   {
    "duration": 6,
    "start_time": "2024-05-31T05:32:58.492Z"
   },
   {
    "duration": 8,
    "start_time": "2024-05-31T05:32:58.501Z"
   },
   {
    "duration": 5,
    "start_time": "2024-05-31T05:32:58.512Z"
   },
   {
    "duration": 7,
    "start_time": "2024-05-31T05:32:58.521Z"
   },
   {
    "duration": 5,
    "start_time": "2024-05-31T05:32:58.531Z"
   },
   {
    "duration": 3715,
    "start_time": "2024-05-31T05:32:58.539Z"
   },
   {
    "duration": 14,
    "start_time": "2024-05-31T05:33:02.257Z"
   },
   {
    "duration": 5363,
    "start_time": "2024-05-31T05:33:02.291Z"
   },
   {
    "duration": 1486,
    "start_time": "2024-05-31T05:33:07.658Z"
   },
   {
    "duration": 1425,
    "start_time": "2024-05-31T05:33:09.149Z"
   },
   {
    "duration": 2120,
    "start_time": "2024-05-31T05:33:10.594Z"
   },
   {
    "duration": 1498,
    "start_time": "2024-05-31T05:34:29.359Z"
   },
   {
    "duration": 1423,
    "start_time": "2024-05-31T05:34:38.278Z"
   },
   {
    "duration": 1489,
    "start_time": "2024-05-31T05:36:01.264Z"
   },
   {
    "duration": 1413,
    "start_time": "2024-05-31T05:39:20.321Z"
   },
   {
    "duration": 1511,
    "start_time": "2024-05-31T05:40:16.584Z"
   },
   {
    "duration": 1425,
    "start_time": "2024-05-31T05:41:47.915Z"
   },
   {
    "duration": 1423,
    "start_time": "2024-05-31T05:42:06.013Z"
   },
   {
    "duration": 1440,
    "start_time": "2024-05-31T05:43:24.429Z"
   },
   {
    "duration": 1402,
    "start_time": "2024-05-31T05:43:30.904Z"
   },
   {
    "duration": 1401,
    "start_time": "2024-05-31T05:45:36.337Z"
   },
   {
    "duration": 1422,
    "start_time": "2024-05-31T05:48:30.734Z"
   },
   {
    "duration": 1469,
    "start_time": "2024-05-31T05:48:52.295Z"
   },
   {
    "duration": 1471,
    "start_time": "2024-05-31T05:49:02.248Z"
   }
  ],
  "kernelspec": {
   "display_name": "Python 3 (ipykernel)",
   "language": "python",
   "name": "python3"
  },
  "language_info": {
   "codemirror_mode": {
    "name": "ipython",
    "version": 3
   },
   "file_extension": ".py",
   "mimetype": "text/x-python",
   "name": "python",
   "nbconvert_exporter": "python",
   "pygments_lexer": "ipython3",
   "version": "3.9.19"
  },
  "toc": {
   "base_numbering": 1,
   "nav_menu": {},
   "number_sections": true,
   "sideBar": true,
   "skip_h1_title": true,
   "title_cell": "Table of Contents",
   "title_sidebar": "Contents",
   "toc_cell": false,
   "toc_position": {},
   "toc_section_display": true,
   "toc_window_display": false
  }
 },
 "nbformat": 4,
 "nbformat_minor": 2
}
